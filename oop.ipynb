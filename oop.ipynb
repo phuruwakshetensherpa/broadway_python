{
 "cells": [
  {
   "cell_type": "code",
   "execution_count": 1,
   "id": "e40b7121",
   "metadata": {},
   "outputs": [],
   "source": [
    "#class <name>:\n",
    "#     <methods>\n",
    "\n",
    "#<name>()"
   ]
  },
  {
   "cell_type": "code",
   "execution_count": 2,
   "id": "a987c0a4",
   "metadata": {},
   "outputs": [
    {
     "ename": "TypeError",
     "evalue": "Hello.hello() takes 0 positional arguments but 1 was given",
     "output_type": "error",
     "traceback": [
      "\u001b[0;31m---------------------------------------------------------------------------\u001b[0m",
      "\u001b[0;31mTypeError\u001b[0m                                 Traceback (most recent call last)",
      "Cell \u001b[0;32mIn[2], line 5\u001b[0m\n\u001b[1;32m      3\u001b[0m         \u001b[38;5;28mprint\u001b[39m(\u001b[38;5;124m\"\u001b[39m\u001b[38;5;124mHello world\u001b[39m\u001b[38;5;124m\"\u001b[39m)\n\u001b[1;32m      4\u001b[0m obj \u001b[38;5;241m=\u001b[39m Hello()\n\u001b[0;32m----> 5\u001b[0m obj\u001b[38;5;241m.\u001b[39mhello()\n",
      "\u001b[0;31mTypeError\u001b[0m: Hello.hello() takes 0 positional arguments but 1 was given"
     ]
    }
   ],
   "source": [
    "class Hello:\n",
    "    def hello():\n",
    "        print(\"Hello world\")\n",
    "obj = Hello()\n",
    "obj.hello()"
   ]
  },
  {
   "cell_type": "code",
   "execution_count": 3,
   "id": "84eee74f",
   "metadata": {},
   "outputs": [
    {
     "name": "stdout",
     "output_type": "stream",
     "text": [
      "Hello world\n"
     ]
    }
   ],
   "source": [
    "class Hello:\n",
    "    def hello(self): #self carrying method.. carries self as parameter\n",
    "        print(\"Hello world\")\n",
    "obj = Hello()\n",
    "obj.hello()"
   ]
  },
  {
   "cell_type": "code",
   "execution_count": 4,
   "id": "fe6de47e",
   "metadata": {},
   "outputs": [
    {
     "name": "stdout",
     "output_type": "stream",
     "text": [
      "Hello world\n"
     ]
    }
   ],
   "source": [
    "class Hello:\n",
    "    @staticmethod #this is a decorator #i will use my own resource #not used often\n",
    "    def hello():\n",
    "        print(\"Hello world\")\n",
    "obj = Hello()\n",
    "obj.hello()"
   ]
  },
  {
   "cell_type": "code",
   "execution_count": 8,
   "id": "133d910e",
   "metadata": {},
   "outputs": [
    {
     "name": "stdout",
     "output_type": "stream",
     "text": [
      "Enter the value l :2\n",
      "Enter the value b :3\n",
      "6\n"
     ]
    }
   ],
   "source": [
    "class Cal:\n",
    "    def area(self):\n",
    "        l = int(input(\"Enter the value l :\"))\n",
    "        b = int(input(\"Enter the value b :\"))\n",
    "        a = l*b\n",
    "        print(a)\n",
    "        \n",
    "obj = Cal()\n",
    "obj.area()"
   ]
  },
  {
   "cell_type": "code",
   "execution_count": 6,
   "id": "4b958376",
   "metadata": {},
   "outputs": [
    {
     "name": "stdout",
     "output_type": "stream",
     "text": [
      "Enter the value h :10\n",
      "Enter the value l :10\n",
      "Enter the value b :10\n",
      "1000\n"
     ]
    }
   ],
   "source": [
    "class Cal:\n",
    "    def volume(self, h):\n",
    "        l = int(input(\"Enter the value l :\"))\n",
    "        b = int(input(\"Enter the value b :\"))\n",
    "        v = l*b*h\n",
    "        print(v)\n",
    "        \n",
    "obj = Cal()\n",
    "h = int(input(\"Enter the value h :\"))\n",
    "obj.volume(h)"
   ]
  },
  {
   "cell_type": "code",
   "execution_count": 10,
   "id": "27591144",
   "metadata": {},
   "outputs": [
    {
     "name": "stdout",
     "output_type": "stream",
     "text": [
      "Enter the value l :10\n",
      "Enter the value b :10\n",
      "Enter the value h :10\n",
      "1000\n"
     ]
    }
   ],
   "source": [
    "class Cal:\n",
    "    def __init__(self): #other methods in this class can access this l b\n",
    "        self.l = int(input(\"Enter the value l :\"))\n",
    "        self.b = int(input(\"Enter the value b :\"))\n",
    "        self.h = int(input(\"Enter the value h :\"))\n",
    "        \n",
    "    def volume(self):\n",
    "        v = self.l*self.b*self.h\n",
    "        print(v)\n",
    "        \n",
    "obj = Cal() #when class Cal is initialized init is automatically called\n",
    "obj.volume()"
   ]
  },
  {
   "cell_type": "code",
   "execution_count": 12,
   "id": "a6fc3c97",
   "metadata": {},
   "outputs": [
    {
     "name": "stdout",
     "output_type": "stream",
     "text": [
      "Enter name :ram\n",
      "Enter age :23\n",
      "Enter add :sadf\n",
      "ram sadf\n",
      "Hello world. I am ram of 23 from sadf\n"
     ]
    }
   ],
   "source": [
    "class Info:\n",
    "    def __init__(self): #other methods in this class can access this l b\n",
    "        self.name = input(\"Enter name :\")\n",
    "        self.age = int(input(\"Enter age :\"))\n",
    "        self.add = input(\"Enter add :\")\n",
    "        \n",
    "    def data(self):\n",
    "        print(self.name,self.add)\n",
    "        \n",
    "    def info(self):\n",
    "        print(f\"Hello world. I am {self.name} of {self.age} from {self.add}\")\n",
    "        \n",
    "obj = Info()\n",
    "obj.data()\n",
    "obj.info()"
   ]
  },
  {
   "cell_type": "code",
   "execution_count": 16,
   "id": "1c7d03f1",
   "metadata": {},
   "outputs": [
    {
     "name": "stdout",
     "output_type": "stream",
     "text": [
      "Enter name :ram\n",
      "Enter age :23\n",
      "Enter add :fss\n",
      "ram fss\n",
      "Hello world. I am ram of 23 from fss\n"
     ]
    }
   ],
   "source": [
    "class Info: #capital not mandatory, but good practice\n",
    "    def __init__(self,name,age,address):\n",
    "        self.name = name\n",
    "        self.age = age\n",
    "        self.add = add\n",
    "        \n",
    "    def data(self):\n",
    "        print(self.name,self.add)\n",
    "        \n",
    "    def info(self):\n",
    "        print(f\"Hello world. I am {self.name} of {self.age} from {self.add}\")\n",
    "    \n",
    "name = input(\"Enter name :\")\n",
    "age = int(input(\"Enter age :\"))\n",
    "add = input(\"Enter add :\")\n",
    "obj = Info(name,age,add)\n",
    "obj.data()\n",
    "obj.info()"
   ]
  },
  {
   "cell_type": "code",
   "execution_count": null,
   "id": "6e0499fe",
   "metadata": {},
   "outputs": [],
   "source": []
  }
 ],
 "metadata": {
  "kernelspec": {
   "display_name": "Python 3 (ipykernel)",
   "language": "python",
   "name": "python3"
  },
  "language_info": {
   "codemirror_mode": {
    "name": "ipython",
    "version": 3
   },
   "file_extension": ".py",
   "mimetype": "text/x-python",
   "name": "python",
   "nbconvert_exporter": "python",
   "pygments_lexer": "ipython3",
   "version": "3.11.7"
  }
 },
 "nbformat": 4,
 "nbformat_minor": 5
}
