{
 "cells": [
  {
   "cell_type": "code",
   "execution_count": 2,
   "id": "1c2c493a",
   "metadata": {},
   "outputs": [],
   "source": [
    "#pre defined function\n",
    "# print() int() float() str() ....etc"
   ]
  },
  {
   "cell_type": "code",
   "execution_count": 3,
   "id": "171ab8af",
   "metadata": {},
   "outputs": [],
   "source": [
    "#user defined function\n",
    "#def <function_name>():\n",
    "#    <operations>\n",
    "    \n",
    "#<function_name>()"
   ]
  },
  {
   "cell_type": "code",
   "execution_count": 4,
   "id": "85189efa",
   "metadata": {},
   "outputs": [
    {
     "name": "stdout",
     "output_type": "stream",
     "text": [
      "hello world\n"
     ]
    }
   ],
   "source": [
    "def hello():\n",
    "    print(\"hello world\")\n",
    "hello()"
   ]
  },
  {
   "cell_type": "code",
   "execution_count": 8,
   "id": "53b515af",
   "metadata": {},
   "outputs": [
    {
     "name": "stdout",
     "output_type": "stream",
     "text": [
      "Enter l: 2\n",
      "Enter b: 3\n",
      "6\n"
     ]
    }
   ],
   "source": [
    "def cal(x,y): #x,y are parameters\n",
    "    a = x*y\n",
    "    print(a)\n",
    "l = int(input(\"Enter l: \"))\n",
    "b = int(input(\"Enter b: \"))\n",
    "cal(l,b) #l,b are arguments"
   ]
  },
  {
   "cell_type": "code",
   "execution_count": 9,
   "id": "70f5ab37",
   "metadata": {},
   "outputs": [
    {
     "name": "stdout",
     "output_type": "stream",
     "text": [
      "Enter l: 3\n",
      "Enter b: 2\n",
      "6\n"
     ]
    }
   ],
   "source": [
    "def cal(z): #x,y are parameters\n",
    "    x,y=z\n",
    "    a = x*y\n",
    "    print(a)\n",
    "l = int(input(\"Enter l: \"))\n",
    "b = int(input(\"Enter b: \"))\n",
    "z=[l,b]\n",
    "cal(z) #l,b are arguments"
   ]
  },
  {
   "cell_type": "code",
   "execution_count": 12,
   "id": "1e99b6a7",
   "metadata": {},
   "outputs": [
    {
     "name": "stdout",
     "output_type": "stream",
     "text": [
      "C\n",
      "Python\n"
     ]
    }
   ],
   "source": [
    "def language(lan = \"Python\"):\n",
    "    print(lan)\n",
    "\n",
    "language(\"C\")\n",
    "language()"
   ]
  },
  {
   "cell_type": "code",
   "execution_count": 13,
   "id": "7a08a3c2",
   "metadata": {},
   "outputs": [
    {
     "data": {
      "text/plain": [
       "'Hello World'"
      ]
     },
     "execution_count": 13,
     "metadata": {},
     "output_type": "execute_result"
    }
   ],
   "source": [
    "#return type function\n",
    "def hello():\n",
    "    x = \"Hello World\"\n",
    "    return x\n",
    "\n",
    "hello()"
   ]
  },
  {
   "cell_type": "code",
   "execution_count": 17,
   "id": "27adea34",
   "metadata": {},
   "outputs": [
    {
     "name": "stdout",
     "output_type": "stream",
     "text": [
      "Enter a: 2\n",
      "5\n"
     ]
    }
   ],
   "source": [
    "def num():\n",
    "    a = int(input(\"Enter a: \"))\n",
    "    return a\n",
    "\n",
    "x = num()\n",
    "print(x+3)"
   ]
  },
  {
   "cell_type": "code",
   "execution_count": 4,
   "id": "aaaae875",
   "metadata": {},
   "outputs": [
    {
     "name": "stdout",
     "output_type": "stream",
     "text": [
      "Enter b: 2\n",
      "Enter a: 3\n",
      "5\n"
     ]
    }
   ],
   "source": [
    "def num():\n",
    "    a = int(input(\"Enter a: \"))\n",
    "    return a\n",
    "b = int(input(\"Enter b: \"))\n",
    "print(num() + b) #function is called at second"
   ]
  },
  {
   "cell_type": "code",
   "execution_count": 5,
   "id": "f16948a4",
   "metadata": {},
   "outputs": [
    {
     "name": "stdout",
     "output_type": "stream",
     "text": [
      "Enter x:2\n",
      "Enter y:2\n",
      "add / sub / mul / divadd\n"
     ]
    },
    {
     "ename": "TypeError",
     "evalue": "'str' object is not callable",
     "output_type": "error",
     "traceback": [
      "\u001b[0;31m---------------------------------------------------------------------------\u001b[0m",
      "\u001b[0;31mTypeError\u001b[0m                                 Traceback (most recent call last)",
      "Cell \u001b[0;32mIn[5], line 16\u001b[0m\n\u001b[1;32m     14\u001b[0m y\u001b[38;5;241m=\u001b[39m\u001b[38;5;28mint\u001b[39m(\u001b[38;5;28minput\u001b[39m(\u001b[38;5;124m\"\u001b[39m\u001b[38;5;124mEnter y:\u001b[39m\u001b[38;5;124m\"\u001b[39m))\n\u001b[1;32m     15\u001b[0m o\u001b[38;5;241m=\u001b[39m\u001b[38;5;28minput\u001b[39m(\u001b[38;5;124m\"\u001b[39m\u001b[38;5;124madd / sub / mul / div\u001b[39m\u001b[38;5;124m\"\u001b[39m)\n\u001b[0;32m---> 16\u001b[0m \u001b[38;5;28mprint\u001b[39m(o(x,y))\n",
      "\u001b[0;31mTypeError\u001b[0m: 'str' object is not callable"
     ]
    }
   ],
   "source": [
    "def add(a,b):\n",
    "    return a+b\n",
    "\n",
    "def sub(a,b):\n",
    "    return a-b\n",
    "\n",
    "def mul(a,b):\n",
    "    return a*b\n",
    "\n",
    "def div(a,b):\n",
    "    return a/b\n",
    "\n",
    "x=int(input(\"Enter x:\"))\n",
    "y=int(input(\"Enter y:\"))\n",
    "o=input(\"add / sub / mul / div\")\n"
   ]
  },
  {
   "cell_type": "code",
   "execution_count": 1,
   "id": "d5f222e4",
   "metadata": {},
   "outputs": [
    {
     "name": "stdout",
     "output_type": "stream",
     "text": [
      "Hello world\n",
      "Enter y for more print: y\n",
      "Hello world\n",
      "Enter y for more print: y\n",
      "Hello world\n",
      "Enter y for more print: n\n"
     ]
    }
   ],
   "source": [
    "#recursive function\n",
    "def hello():\n",
    "    print(\"Hello world\")\n",
    "    x = input(\"Enter y for more print: \")\n",
    "    if x ==\"y\":\n",
    "        hello()\n",
    "hello()"
   ]
  },
  {
   "cell_type": "code",
   "execution_count": 14,
   "id": "86e902f4",
   "metadata": {},
   "outputs": [
    {
     "name": "stdout",
     "output_type": "stream",
     "text": [
      "0.8939966636005579\n"
     ]
    }
   ],
   "source": [
    "#math function\n",
    "import math as m\n",
    "print(m.sin(90))"
   ]
  },
  {
   "cell_type": "code",
   "execution_count": 3,
   "id": "60d6cb1f",
   "metadata": {},
   "outputs": [
    {
     "data": {
      "text/plain": [
       "3.141592653589793"
      ]
     },
     "execution_count": 3,
     "metadata": {},
     "output_type": "execute_result"
    }
   ],
   "source": [
    "m.pi"
   ]
  },
  {
   "cell_type": "code",
   "execution_count": 11,
   "id": "c13e4730",
   "metadata": {},
   "outputs": [
    {
     "name": "stdout",
     "output_type": "stream",
     "text": [
      "1.0\n"
     ]
    }
   ],
   "source": [
    "print(m.sin(m.pi/2)) #pi/2 = 90 degrees"
   ]
  },
  {
   "cell_type": "code",
   "execution_count": 16,
   "id": "fccf9757",
   "metadata": {},
   "outputs": [],
   "source": [
    "#lambda function\n",
    "# lambda <arguments>:<operation>\n",
    "# lambda is aka anonymous function\n",
    "# lambda is return type function in default"
   ]
  },
  {
   "cell_type": "code",
   "execution_count": 17,
   "id": "26e87c73",
   "metadata": {},
   "outputs": [
    {
     "name": "stdout",
     "output_type": "stream",
     "text": [
      "9\n"
     ]
    }
   ],
   "source": [
    "a = lambda x:x**2\n",
    "print(a(3))"
   ]
  },
  {
   "cell_type": "code",
   "execution_count": 18,
   "id": "8284a24c",
   "metadata": {},
   "outputs": [
    {
     "name": "stdout",
     "output_type": "stream",
     "text": [
      "6\n"
     ]
    }
   ],
   "source": [
    "a = lambda x,y:x*y\n",
    "print(a(3,2))"
   ]
  },
  {
   "cell_type": "code",
   "execution_count": 19,
   "id": "3464f6f8",
   "metadata": {},
   "outputs": [],
   "source": [
    "# filter function\n",
    "# map function"
   ]
  },
  {
   "cell_type": "code",
   "execution_count": 22,
   "id": "4e670554",
   "metadata": {},
   "outputs": [],
   "source": [
    "# filter\n",
    "# filter(lambda <arguments>:<condition>,list)"
   ]
  },
  {
   "cell_type": "code",
   "execution_count": 23,
   "id": "9bd81edb",
   "metadata": {},
   "outputs": [
    {
     "data": {
      "text/plain": [
       "[2, 4, 6, 6, 6]"
      ]
     },
     "execution_count": 23,
     "metadata": {},
     "output_type": "execute_result"
    }
   ],
   "source": [
    "a = [1,2,3,4,5,5,6,6,6,7]\n",
    "list(filter((lambda x:x%2==0),a))"
   ]
  },
  {
   "cell_type": "code",
   "execution_count": 25,
   "id": "1de97a7f",
   "metadata": {},
   "outputs": [
    {
     "data": {
      "text/plain": [
       "['cat', 'dog']"
      ]
     },
     "execution_count": 25,
     "metadata": {},
     "output_type": "execute_result"
    }
   ],
   "source": [
    "a = [\"Apple\",\"Ball\",\"cat\",\"dog\",\"Fish\"]\n",
    "list(filter((lambda x:x.islower()),a))"
   ]
  },
  {
   "cell_type": "code",
   "execution_count": 24,
   "id": "040b7310",
   "metadata": {},
   "outputs": [],
   "source": [
    "# map\n",
    "# map(lambda <arguments>:<condition>,list)"
   ]
  },
  {
   "cell_type": "code",
   "execution_count": 26,
   "id": "127ab5fb",
   "metadata": {},
   "outputs": [
    {
     "data": {
      "text/plain": [
       "['apple', 'ball', 'cat', 'dog', 'fish']"
      ]
     },
     "execution_count": 26,
     "metadata": {},
     "output_type": "execute_result"
    }
   ],
   "source": [
    "a = [\"Apple\",\"Ball\",\"cat\",\"dog\",\"Fish\"]\n",
    "list(map((lambda x:x.lower()),a))"
   ]
  },
  {
   "cell_type": "code",
   "execution_count": 28,
   "id": "cd804931",
   "metadata": {},
   "outputs": [
    {
     "data": {
      "text/plain": [
       "[1, 4, 9, 16, 25, 25, 36, 36, 36, 49]"
      ]
     },
     "execution_count": 28,
     "metadata": {},
     "output_type": "execute_result"
    }
   ],
   "source": [
    "a = [1,2,3,4,5,5,6,6,6,7]\n",
    "list(map((lambda x:x**2),a))"
   ]
  },
  {
   "cell_type": "code",
   "execution_count": 34,
   "id": "700a02a7",
   "metadata": {},
   "outputs": [],
   "source": [
    "#list and dict as comprehensions (list and dict can do some work like filter and map)"
   ]
  },
  {
   "cell_type": "code",
   "execution_count": 31,
   "id": "fe190c89",
   "metadata": {},
   "outputs": [
    {
     "data": {
      "text/plain": [
       "[0, 1, 2, 3, 4, 5, 6, 7, 8, 9]"
      ]
     },
     "execution_count": 31,
     "metadata": {},
     "output_type": "execute_result"
    }
   ],
   "source": [
    "a = [i for i in range(10)]\n",
    "a"
   ]
  },
  {
   "cell_type": "code",
   "execution_count": 2,
   "id": "8100687b",
   "metadata": {},
   "outputs": [
    {
     "name": "stdout",
     "output_type": "stream",
     "text": [
      "Enter value: 3\n",
      "Enter value: 4\n",
      "Enter value: 5\n",
      "Enter value: 6\n",
      "Enter value: 7\n"
     ]
    },
    {
     "data": {
      "text/plain": [
       "[3, 4, 5, 6, 7]"
      ]
     },
     "execution_count": 2,
     "metadata": {},
     "output_type": "execute_result"
    }
   ],
   "source": [
    "a = [int(input(\"Enter value: \")) for i in range(5)] #list\n",
    "a"
   ]
  },
  {
   "cell_type": "code",
   "execution_count": 35,
   "id": "179e4c54",
   "metadata": {},
   "outputs": [
    {
     "name": "stdout",
     "output_type": "stream",
     "text": [
      "Enter value: 1\n",
      "Enter value: 2\n",
      "Enter value: 4\n",
      "Enter value: 1\n",
      "Enter value: 1\n"
     ]
    },
    {
     "data": {
      "text/plain": [
       "9"
      ]
     },
     "execution_count": 35,
     "metadata": {},
     "output_type": "execute_result"
    }
   ],
   "source": [
    "a = sum([int(input(\"Enter value: \")) for i in range(5)])\n",
    "a"
   ]
  },
  {
   "cell_type": "code",
   "execution_count": 3,
   "id": "7c062ecd",
   "metadata": {},
   "outputs": [
    {
     "name": "stdout",
     "output_type": "stream",
     "text": [
      "enter name: sdfdsa\n",
      "Enter phone = 445\n",
      "enter name: gj\n",
      "Enter phone = 123\n",
      "enter name: vcbxc\n",
      "Enter phone = 575\n",
      "{'sdfdsa': '445', 'gj': '123', 'vcbxc': '575'}\n"
     ]
    }
   ],
   "source": [
    "a = {input(\"enter name: \"):input(\"Enter phone = \") for i in range(3)} #dict\n",
    "print(a)"
   ]
  },
  {
   "cell_type": "code",
   "execution_count": 4,
   "id": "dfcfa8ae",
   "metadata": {},
   "outputs": [
    {
     "data": {
      "text/plain": [
       "{1: 1, 2: 4, 3: 9, 4: 16, 5: 25}"
      ]
     },
     "execution_count": 4,
     "metadata": {},
     "output_type": "execute_result"
    }
   ],
   "source": [
    "x = [1,2,3,4,5]\n",
    "a = {i:i**2 for i in x}\n",
    "a"
   ]
  },
  {
   "cell_type": "code",
   "execution_count": null,
   "id": "d47f39be",
   "metadata": {},
   "outputs": [],
   "source": []
  }
 ],
 "metadata": {
  "kernelspec": {
   "display_name": "Python 3 (ipykernel)",
   "language": "python",
   "name": "python3"
  },
  "language_info": {
   "codemirror_mode": {
    "name": "ipython",
    "version": 3
   },
   "file_extension": ".py",
   "mimetype": "text/x-python",
   "name": "python",
   "nbconvert_exporter": "python",
   "pygments_lexer": "ipython3",
   "version": "3.11.7"
  }
 },
 "nbformat": 4,
 "nbformat_minor": 5
}
