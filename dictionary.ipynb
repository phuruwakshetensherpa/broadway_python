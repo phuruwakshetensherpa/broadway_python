{
 "cells": [
  {
   "cell_type": "code",
   "execution_count": 1,
   "id": "e8ebf13a",
   "metadata": {},
   "outputs": [
    {
     "name": "stdout",
     "output_type": "stream",
     "text": [
      "Ram\n",
      "Shyam\n",
      "Hari\n"
     ]
    }
   ],
   "source": [
    "a = {'Ram':9800000000,'Shyam':9870000000,'Hari':9600000000}\n",
    "for i in a:\n",
    "    print(i)"
   ]
  },
  {
   "cell_type": "code",
   "execution_count": 4,
   "id": "a431e09a",
   "metadata": {},
   "outputs": [
    {
     "name": "stdout",
     "output_type": "stream",
     "text": [
      "9800000000\n",
      "9870000000\n",
      "9600000000\n"
     ]
    }
   ],
   "source": [
    "a = {'Ram':9800000000,'Shyam':9870000000,'Hari':9600000000}\n",
    "for i in a.values():\n",
    "    print(i)"
   ]
  },
  {
   "cell_type": "code",
   "execution_count": 5,
   "id": "ee126040",
   "metadata": {},
   "outputs": [
    {
     "name": "stdout",
     "output_type": "stream",
     "text": [
      "('Ram', 9800000000)\n",
      "('Shyam', 9870000000)\n",
      "('Hari', 9600000000)\n"
     ]
    }
   ],
   "source": [
    "a = {'Ram':9800000000,'Shyam':9870000000,'Hari':9600000000}\n",
    "for i in a.items():\n",
    "    print(i)"
   ]
  },
  {
   "cell_type": "code",
   "execution_count": 6,
   "id": "e2fabb15",
   "metadata": {},
   "outputs": [
    {
     "name": "stdout",
     "output_type": "stream",
     "text": [
      "{'momo': 200, 'pizza': 800}\n"
     ]
    }
   ],
   "source": [
    "a = {}\n",
    "a[\"momo\"] = 200\n",
    "a[\"pizza\"] = 800\n",
    "print(a)"
   ]
  },
  {
   "cell_type": "code",
   "execution_count": 7,
   "id": "f2ef5fd2",
   "metadata": {},
   "outputs": [
    {
     "name": "stdout",
     "output_type": "stream",
     "text": [
      "{'Ram': 9500000000, 'Shyam': 9870000000, 'Hari': 9600000000}\n"
     ]
    }
   ],
   "source": [
    "a = {'Ram':9800000000,'Shyam':9870000000,'Hari':9600000000}\n",
    "a[\"Ram\"]=9500000000\n",
    "print(a)"
   ]
  },
  {
   "cell_type": "code",
   "execution_count": 13,
   "id": "d4315a54",
   "metadata": {},
   "outputs": [
    {
     "name": "stdout",
     "output_type": "stream",
     "text": [
      "{'Ram': 9800000000, 'Shyam': 9870000000, 'Hari': 9600000000, 'Rama': 9000000000}\n"
     ]
    }
   ],
   "source": [
    "a = {'Ram':9800000000,'Shyam':9870000000,'Hari':9600000000}\n",
    "a[\"Rama\"]=9000000000\n",
    "print(a)"
   ]
  },
  {
   "cell_type": "code",
   "execution_count": 14,
   "id": "97552bb7",
   "metadata": {},
   "outputs": [
    {
     "name": "stdout",
     "output_type": "stream",
     "text": [
      "{'Ram': 9800000000, 'Shyam': 9870000000, 'Hari': 9600000000, 'Gopal': 9300000000}\n"
     ]
    }
   ],
   "source": [
    "a = {'Ram':9800000000,'Shyam':9870000000,'Hari':9600000000}\n",
    "b = {\"Gopal\":9300000000}\n",
    "a.update(b) #to concat in dict\n",
    "print(a)"
   ]
  },
  {
   "cell_type": "code",
   "execution_count": 16,
   "id": "36a6db49",
   "metadata": {},
   "outputs": [
    {
     "name": "stdout",
     "output_type": "stream",
     "text": [
      "{'Shyam': 9870000000, 'Hari': 9600000000}\n"
     ]
    }
   ],
   "source": [
    "a = {'Ram':9800000000,'Shyam':9870000000,'Hari':9600000000}\n",
    "del a['Ram']\n",
    "print(a)"
   ]
  },
  {
   "cell_type": "code",
   "execution_count": 22,
   "id": "f6432c74",
   "metadata": {},
   "outputs": [
    {
     "name": "stdout",
     "output_type": "stream",
     "text": [
      "9870000000\n",
      "{'Ram': 9800000000, 'Hari': 9600000000}\n"
     ]
    }
   ],
   "source": [
    "a = {'Ram':9800000000,'Shyam':9870000000,'Hari':9600000000}\n",
    "b = a.pop('Shyam')\n",
    "print(b)\n",
    "#a.update(b) #error because only value is popped, not the kye\n",
    "print(a)"
   ]
  },
  {
   "cell_type": "code",
   "execution_count": 24,
   "id": "b5582628",
   "metadata": {},
   "outputs": [
    {
     "name": "stdout",
     "output_type": "stream",
     "text": [
      "[9800000000, 9000000000]\n"
     ]
    }
   ],
   "source": [
    "#list inside dict\n",
    "a = {'Ram':[9800000000,9000000000],'Shyam':[9870000000,990000000],'Hari':[9600000000,9200000000]}\n",
    "print(a['Ram'])"
   ]
  },
  {
   "cell_type": "code",
   "execution_count": 28,
   "id": "d8e7d565",
   "metadata": {},
   "outputs": [
    {
     "name": "stdout",
     "output_type": "stream",
     "text": [
      "{'name': ['Ram', 'Shyam', 'Hari'], 'age': [23, 56, 70], 'add': ['Kathmandu', 'Bhaktapur', 'Lalitpur']}\n"
     ]
    }
   ],
   "source": [
    "a = {'name':['Ram','Shyam','Hari'],\n",
    "    'age':[23,56,70],\n",
    "    'add':['Kathmandu','Bhaktapur','Lalitpur']}\n",
    "print(a)\n",
    "\n",
    "#dictionary is heading of table"
   ]
  },
  {
   "cell_type": "code",
   "execution_count": 30,
   "id": "a1805623",
   "metadata": {},
   "outputs": [
    {
     "name": "stdout",
     "output_type": "stream",
     "text": [
      "Enter n: 2\n",
      "Enter name: sdfsfsfd\n",
      "Enter ntc: 3\n",
      "Enter ncell: 34\n",
      "Enter name: dsfsfs\n",
      "Enter ntc: 454\n",
      "Enter ncell: 234\n"
     ]
    },
    {
     "data": {
      "text/plain": [
       "{'sdfsfsfd': [3, 34], 'dsfsfs': [454, 234]}"
      ]
     },
     "execution_count": 30,
     "metadata": {},
     "output_type": "execute_result"
    }
   ],
   "source": [
    "a = {}\n",
    "n = int(input(\"Enter n: \"))\n",
    "for i in range(n):\n",
    "    name = input(\"Enter name: \")\n",
    "    ntc = int(input(\"Enter ntc: \"))\n",
    "    ncell = int(input(\"Enter ncell: \"))\n",
    "    a[name] = [ntc, ncell]\n",
    "a"
   ]
  },
  {
   "cell_type": "code",
   "execution_count": 33,
   "id": "8d5d33d9",
   "metadata": {},
   "outputs": [
    {
     "name": "stdout",
     "output_type": "stream",
     "text": [
      "Enter n: 2\n",
      "Enter name: dsfsdf\n",
      "Enter ntc: 23\n",
      "Enter ncell: 23\n",
      "Enter name: dsfs\n",
      "Enter ntc: 34\n",
      "Enter ncell: 34\n",
      "{'name': ['dsfsdf', 'dsfs'], 'age': [23, 34], 'add': [23, 34]}\n"
     ]
    }
   ],
   "source": [
    "a = {'name':[],'age':[],'add':[]}\n",
    "n = int(input(\"Enter n: \"))\n",
    "for i in range(n):\n",
    "    name = input(\"Enter name: \")\n",
    "    age = int(input(\"Enter ntc: \"))\n",
    "    add = int(input(\"Enter ncell: \"))\n",
    "    a['name'].append(name)\n",
    "    a['age'].append(age)\n",
    "    a['add'].append(add)\n",
    "print(a)"
   ]
  },
  {
   "cell_type": "code",
   "execution_count": 36,
   "id": "460727e2",
   "metadata": {},
   "outputs": [
    {
     "data": {
      "text/plain": [
       "{'Ram': [9800000000, 9000000000, '800000000'],\n",
       " 'Shyam': [9870000000, 990000000],\n",
       " 'Hari': [9600000000, 9200000000]}"
      ]
     },
     "execution_count": 36,
     "metadata": {},
     "output_type": "execute_result"
    }
   ],
   "source": [
    "a = {'Ram':[9800000000,9000000000],'Shyam':[9870000000,990000000],'Hari':[9600000000,9200000000]}\n",
    "a['Ram'].append(\"800000000\")\n",
    "a"
   ]
  },
  {
   "cell_type": "code",
   "execution_count": 5,
   "id": "a6fa3fe6",
   "metadata": {},
   "outputs": [
    {
     "name": "stdout",
     "output_type": "stream",
     "text": [
      "Ram\n",
      "23\n",
      "Kathmandu\n"
     ]
    }
   ],
   "source": [
    "a = {'name':['Ram','Shyam','Hari'],\n",
    "    'age':[23,56,70],\n",
    "    'add':['Kathmandu','Bhaktapur','Lalitpur']}\n",
    "print(a['name'][0])\n",
    "print(a['age'][0])\n",
    "print(a['add'][0])"
   ]
  },
  {
   "cell_type": "code",
   "execution_count": 7,
   "id": "fa4f904d",
   "metadata": {},
   "outputs": [
    {
     "data": {
      "text/plain": [
       "{'name': ['Shyam', 'Hari'], 'age': [56, 70], 'add': ['Bhaktapur', 'Lalitpur']}"
      ]
     },
     "execution_count": 7,
     "metadata": {},
     "output_type": "execute_result"
    }
   ],
   "source": [
    "a = {'name':['Ram','Shyam','Hari'],\n",
    "    'age':[23,56,70],\n",
    "    'add':['Kathmandu','Bhaktapur','Lalitpur']}\n",
    "del a['name'][0]\n",
    "del a['age'][0]\n",
    "del a['add'][0]\n",
    "a"
   ]
  },
  {
   "cell_type": "code",
   "execution_count": 12,
   "id": "c4c0d902",
   "metadata": {},
   "outputs": [
    {
     "name": "stdout",
     "output_type": "stream",
     "text": [
      "name\n",
      "age\n",
      "add\n"
     ]
    }
   ],
   "source": [
    "a = {'name':['Ram','Shyam','Hari'],\n",
    "    'age':[23,56,70],\n",
    "    'add':['Kathmandu','Bhaktapur','Lalitpur']}\n",
    "for i in a:\n",
    "    print(i)"
   ]
  },
  {
   "cell_type": "code",
   "execution_count": 17,
   "id": "2054c2c4",
   "metadata": {},
   "outputs": [
    {
     "name": "stdout",
     "output_type": "stream",
     "text": [
      "Enter index: 2\n"
     ]
    },
    {
     "data": {
      "text/plain": [
       "{'name': ['Ram', 'Shyam'], 'age': [23, 56], 'add': ['Kathmandu', 'Bhaktapur']}"
      ]
     },
     "execution_count": 17,
     "metadata": {},
     "output_type": "execute_result"
    }
   ],
   "source": [
    "a = {'name':['Ram','Shyam','Hari'],\n",
    "    'age':[23,56,70],\n",
    "    'add':['Kathmandu','Bhaktapur','Lalitpur']}\n",
    "#k = list(a.keys())\n",
    "index = int(input(\"Enter index: \"))\n",
    "for i in a:\n",
    "    del a[i][index]\n",
    "a"
   ]
  },
  {
   "cell_type": "code",
   "execution_count": 19,
   "id": "707b905f",
   "metadata": {},
   "outputs": [
    {
     "name": "stdout",
     "output_type": "stream",
     "text": [
      "Enter index: 2\n",
      "Enter namesdfds\n",
      "Enter age34\n",
      "Enter addsdfds\n"
     ]
    },
    {
     "data": {
      "text/plain": [
       "{'name': ['Ram', 'Shyam', 'sdfds'],\n",
       " 'age': [23, 56, '34'],\n",
       " 'add': ['Kathmandu', 'Bhaktapur', 'sdfds']}"
      ]
     },
     "execution_count": 19,
     "metadata": {},
     "output_type": "execute_result"
    }
   ],
   "source": [
    "a = {'name':['Ram','Shyam','Hari'],\n",
    "    'age':[23,56,70],\n",
    "    'add':['Kathmandu','Bhaktapur','Lalitpur']}\n",
    "index = int(input(\"Enter index: \"))\n",
    "for i in a:\n",
    "    x = input(f\"Enter {i}\") #but age changes into string fault program\n",
    "    a[i][index]= x\n",
    "a"
   ]
  },
  {
   "cell_type": "code",
   "execution_count": 1,
   "id": "d84ea38b",
   "metadata": {},
   "outputs": [
    {
     "data": {
      "text/plain": [
       "[{'name': 'Ram', 'age': 23, 'add': 'Kathmandu'},\n",
       " {'name': 'Shyam', 'age': 32, 'add': 'Bhatkhapur'},\n",
       " {'name': 'Hari', 'age': 20, 'add': 'Lalitpur'}]"
      ]
     },
     "execution_count": 1,
     "metadata": {},
     "output_type": "execute_result"
    }
   ],
   "source": [
    "#dict inside list\n",
    "l = [{'name':'Ram','age':23,'add':'Kathmandu'},\n",
    "    {'name':'Shyam','age':32,'add':'Bhatkhapur'},\n",
    "    {'name':'Hari','age':20,'add':'Lalitpur'}]\n",
    "l"
   ]
  },
  {
   "cell_type": "code",
   "execution_count": 1,
   "id": "968af4ca",
   "metadata": {},
   "outputs": [
    {
     "name": "stdout",
     "output_type": "stream",
     "text": [
      "Enter n: 2\n",
      "Enter name: ram\n",
      "Enter age: 20\n",
      "Enter address: ktm\n",
      "Enter name: shyam\n",
      "Enter age: 30\n",
      "Enter address: bkt\n"
     ]
    },
    {
     "data": {
      "text/plain": [
       "[{'name': 'ram', 'age': 20, 'add': 'ktm'},\n",
       " {'name': 'shyam', 'age': 30, 'add': 'bkt'}]"
      ]
     },
     "execution_count": 1,
     "metadata": {},
     "output_type": "execute_result"
    }
   ],
   "source": [
    "l = []\n",
    "n = int(input(\"Enter n: \"))\n",
    "for i in range(n):\n",
    "    name = input(\"Enter name: \")\n",
    "    age = int(input(\"Enter age: \"))\n",
    "    add = input(\"Enter address: \")\n",
    "    d = {'name':name,'age':age,'add':add}\n",
    "    l.append(d)\n",
    "l"
   ]
  },
  {
   "cell_type": "code",
   "execution_count": 2,
   "id": "2dca120a",
   "metadata": {},
   "outputs": [],
   "source": [
    "#WAP to update delete read to above program"
   ]
  },
  {
   "cell_type": "code",
   "execution_count": 4,
   "id": "3f89fe40",
   "metadata": {},
   "outputs": [
    {
     "data": {
      "text/plain": [
       "{1: {'name': 'Ram', 'age': 23, 'add': 'Kathmandu'},\n",
       " 2: {'name': 'Shyam', 'age': 30, 'add': 'Bhaktapur'},\n",
       " 3: {'name': 'Hari', 'age': 20, 'add': 'Lalitpur'}}"
      ]
     },
     "execution_count": 4,
     "metadata": {},
     "output_type": "execute_result"
    }
   ],
   "source": [
    "#dict inside dict\n",
    "d = {1:{'name':'Ram','age':23,'add':'Kathmandu'},\n",
    "     2:{'name':'Shyam','age':30,'add':'Bhaktapur'},\n",
    "    3:{'name':'Hari','age':20,'add':'Lalitpur'}}\n",
    "d"
   ]
  },
  {
   "cell_type": "code",
   "execution_count": 9,
   "id": "6de891e8",
   "metadata": {},
   "outputs": [
    {
     "name": "stdout",
     "output_type": "stream",
     "text": [
      "Enter n: 2\n",
      "Enter name: ram\n",
      "Enter age: 20\n",
      "Enter address: adf\n",
      "Enter name: sdf\n",
      "Enter age: 34\n",
      "Enter address: sdf\n"
     ]
    },
    {
     "data": {
      "text/plain": [
       "{1: {'name': 'ram', 'age': 20, 'add': 'adf'},\n",
       " 2: {'name': 'sdf', 'age': 34, 'add': 'sdf'}}"
      ]
     },
     "execution_count": 9,
     "metadata": {},
     "output_type": "execute_result"
    }
   ],
   "source": [
    "info = {}\n",
    "n = int(input(\"Enter n: \"))\n",
    "for i in range(1,n+1): #range(n) starts indices from 0.. but we need indices from 1\n",
    "    name = input(\"Enter name: \")\n",
    "    age = int(input(\"Enter age: \"))\n",
    "    add = input(\"Enter address: \")\n",
    "    info[i] = {'name':name,'age':age,'add':add}\n",
    "info"
   ]
  },
  {
   "cell_type": "code",
   "execution_count": 10,
   "id": "f04dfce3",
   "metadata": {},
   "outputs": [],
   "source": [
    "#WAP to add update delete read to above program"
   ]
  },
  {
   "cell_type": "code",
   "execution_count": null,
   "id": "0b2230ea",
   "metadata": {},
   "outputs": [],
   "source": []
  }
 ],
 "metadata": {
  "kernelspec": {
   "display_name": "Python 3 (ipykernel)",
   "language": "python",
   "name": "python3"
  },
  "language_info": {
   "codemirror_mode": {
    "name": "ipython",
    "version": 3
   },
   "file_extension": ".py",
   "mimetype": "text/x-python",
   "name": "python",
   "nbconvert_exporter": "python",
   "pygments_lexer": "ipython3",
   "version": "3.11.7"
  }
 },
 "nbformat": 4,
 "nbformat_minor": 5
}
