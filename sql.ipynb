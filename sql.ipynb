{
 "cells": [
  {
   "cell_type": "code",
   "execution_count": 1,
   "id": "a50cae73",
   "metadata": {},
   "outputs": [
    {
     "name": "stdout",
     "output_type": "stream",
     "text": [
      "Collecting mysql-connector-python\n",
      "  Downloading mysql_connector_python-8.4.0-cp311-cp311-macosx_13_0_arm64.whl.metadata (1.9 kB)\n",
      "Downloading mysql_connector_python-8.4.0-cp311-cp311-macosx_13_0_arm64.whl (13.5 MB)\n",
      "\u001b[2K   \u001b[90m━━━━━━━━━━━━━━━━━━━━━━━━━━━━━━━━━━━━━━━━\u001b[0m \u001b[32m13.5/13.5 MB\u001b[0m \u001b[31m583.2 kB/s\u001b[0m eta \u001b[36m0:00:00\u001b[0m00:01\u001b[0m00:01\u001b[0m\n",
      "\u001b[?25hInstalling collected packages: mysql-connector-python\n",
      "Successfully installed mysql-connector-python-8.4.0\n"
     ]
    }
   ],
   "source": [
    "!pip install mysql-connector-python"
   ]
  },
  {
   "cell_type": "code",
   "execution_count": 11,
   "id": "89221aa3",
   "metadata": {},
   "outputs": [],
   "source": [
    "#CREATING DATABASE\n",
    "\n",
    "import mysql.connector\n",
    "\n",
    "database = mysql.connector.connect(\n",
    "  host=\"localhost\",\n",
    "  user=\"root\",\n",
    "  password=\"\"\n",
    ")\n",
    "\n",
    "mycursor = database.cursor()\n",
    "\n",
    "mycursor.execute(\"CREATE DATABASE Database1\")"
   ]
  },
  {
   "cell_type": "code",
   "execution_count": 1,
   "id": "95201677",
   "metadata": {},
   "outputs": [],
   "source": [
    "#CONNECTING DATABASE\n",
    "\n",
    "import mysql.connector\n",
    "\n",
    "database = mysql.connector.connect(\n",
    "  host=\"localhost\",\n",
    "  user=\"root\",\n",
    "  password=\"\",\n",
    "    database = \"python_class\"\n",
    ")\n",
    "\n",
    "db = database.cursor()"
   ]
  },
  {
   "cell_type": "code",
   "execution_count": 26,
   "id": "47dae4fc",
   "metadata": {},
   "outputs": [
    {
     "name": "stdout",
     "output_type": "stream",
     "text": [
      "(1, 'Ram', 40, 50, 60, 70, 30, 410, 60.0, 'B')\n",
      "(2, 'Hari', 10, 20, 30, 40, 50, 150, 30.0, 'F')\n",
      "(3, 'Shyam', 40, 40, 40, 40, 40, 200, 40.0, 'C')\n",
      "(4, 'Jones', 40, 50, 40, 50, 40, 250, 45.0, 'B')\n",
      "(5, 'Ramesh', 40, 50, 40, 50, 40, 250, 45.0, 'B')\n",
      "(6, 'Sammy', 60, 60, 60, 60, 60, 300, 60.0, 'B')\n"
     ]
    }
   ],
   "source": [
    "db.execute(\"SELECT * FROM student\")\n",
    "result = db.fetchall()\n",
    "for x in result:\n",
    "    print(x)"
   ]
  },
  {
   "cell_type": "code",
   "execution_count": 15,
   "id": "bfe22d29",
   "metadata": {},
   "outputs": [
    {
     "name": "stdout",
     "output_type": "stream",
     "text": [
      "1 record inserted.\n"
     ]
    }
   ],
   "source": [
    "sql = '''INSERT INTO `student` (`sn`, `name`, `physics`, `chemistry`, `math`, `english`, `nepali`, `total`, `per`, `grade`) \n",
    "VALUES (NULL, 'Ramesh', '40', '50', '40', '50', '40', '250', '45', 'B');'''\n",
    "db.execute(sql)\n",
    "database.commit() #need to commit or else database won't be updated\n",
    "print(db.rowcount,\"record inserted.\")"
   ]
  },
  {
   "cell_type": "code",
   "execution_count": 28,
   "id": "09898b78",
   "metadata": {},
   "outputs": [
    {
     "name": "stdout",
     "output_type": "stream",
     "text": [
      "Enter name: dsfs\n",
      "physics: 234\n",
      "chemsitry: 234\n",
      "math: 234\n",
      "english: 24\n",
      "nepali: 24\n",
      "1 record inserted.\n"
     ]
    }
   ],
   "source": [
    "name = input(\"Enter name: \")\n",
    "a = int(input(\"physics: \"))\n",
    "b = int(input(\"chemsitry: \"))\n",
    "c = int(input(\"math: \"))\n",
    "d = int(input(\"english: \"))\n",
    "e = int(input(\"nepali: \"))\n",
    "total= a+b+c+d+e\n",
    "per=total/5\n",
    "    \n",
    "if per>=80:\n",
    "    grade = \"A\"\n",
    "elif per>=60:\n",
    "    grade = \"B\"\n",
    "elif per>=40:\n",
    "    grade = \"C\"\n",
    "else:\n",
    "    grade = \"D\"\n",
    "\n",
    "#inserting data into table\n",
    "sql = f'''INSERT INTO student (name, physics, chemistry, math, english, nepali, total, per, grade) \n",
    "VALUES ('{name}',{a},{b},{c},{d},{e},{total},{per},'{grade}')'''\n",
    "db.execute(sql)\n",
    "database.commit()\n",
    "print(db.rowcount,\"record inserted.\")"
   ]
  },
  {
   "cell_type": "code",
   "execution_count": 29,
   "id": "62ca2159",
   "metadata": {},
   "outputs": [
    {
     "name": "stdout",
     "output_type": "stream",
     "text": [
      "1 record inserted.\n"
     ]
    }
   ],
   "source": [
    "sql = '''INSERT INTO `student` (`sn`, `name`, `physics`, `chemistry`, `math`, `english`, `nepali`, `total`, `per`, `grade`) \n",
    "VALUES (NULL, 'Rammy', 40, 50, 40, 50, 40, 250, 45, 'C');'''\n",
    "db.execute(sql)\n",
    "database.commit() #need to commit or else database won't be updated\n",
    "print(db.rowcount,\"record inserted.\")"
   ]
  },
  {
   "cell_type": "code",
   "execution_count": 8,
   "id": "e7403b12",
   "metadata": {},
   "outputs": [
    {
     "name": "stdout",
     "output_type": "stream",
     "text": [
      "1 record(s) updated\n"
     ]
    }
   ],
   "source": [
    "#Update in mysql\n",
    "sql = 'UPDATE student SET name = \"Rama\" WHERE sn=1' #cannot use same '' inside variable Rama\n",
    "db.execute(sql)\n",
    "database.commit()\n",
    "print(db.rowcount, \"record(s) updated\")"
   ]
  },
  {
   "cell_type": "code",
   "execution_count": 9,
   "id": "11b828bd",
   "metadata": {},
   "outputs": [
    {
     "name": "stdout",
     "output_type": "stream",
     "text": [
      "1 record(s) deleted\n"
     ]
    }
   ],
   "source": [
    "#Delete in sql\n",
    "sql = 'DELETE FROM student WHERE sn=8' \n",
    "db.execute(sql)\n",
    "database.commit()\n",
    "print(db.rowcount, \"record(s) deleted\")"
   ]
  },
  {
   "cell_type": "code",
   "execution_count": 12,
   "id": "542d8e1c",
   "metadata": {},
   "outputs": [
    {
     "name": "stdout",
     "output_type": "stream",
     "text": [
      "(1, 'Rama', 40, 50, 60, 70, 30, 410, 60.0, 'B')\n",
      "(4, 'Jones', 40, 50, 40, 50, 40, 250, 45.0, 'B')\n",
      "(5, 'Ramesh', 40, 50, 40, 50, 40, 250, 45.0, 'B')\n",
      "(6, 'Sammy', 60, 60, 60, 60, 60, 300, 60.0, 'B')\n"
     ]
    }
   ],
   "source": [
    "#SELECTING with conditions\n",
    "db.execute(\"SELECT * FROM student WHERE grade = 'B'\")\n",
    "result = db.fetchall()\n",
    "for x in result:\n",
    "    print(x)"
   ]
  },
  {
   "cell_type": "code",
   "execution_count": 14,
   "id": "20ba938c",
   "metadata": {},
   "outputs": [
    {
     "name": "stdout",
     "output_type": "stream",
     "text": [
      "(1, 'Rama', 40, 50, 60, 70, 30, 410, 60.0, 'B')\n",
      "(2, 'Hari', 10, 20, 30, 40, 50, 150, 30.0, 'F')\n",
      "(3, 'Shyam', 40, 40, 40, 40, 40, 200, 40.0, 'C')\n",
      "(4, 'Jones', 40, 50, 40, 50, 40, 250, 45.0, 'B')\n",
      "(5, 'Ramesh', 40, 50, 40, 50, 40, 250, 45.0, 'B')\n"
     ]
    }
   ],
   "source": [
    "#SELECTING with conditions\n",
    "db.execute(\"SELECT * FROM student WHERE physics < 50\")\n",
    "result = db.fetchall()\n",
    "for x in result:\n",
    "    print(x)"
   ]
  },
  {
   "cell_type": "code",
   "execution_count": 26,
   "id": "9f952ff1",
   "metadata": {},
   "outputs": [
    {
     "name": "stdout",
     "output_type": "stream",
     "text": [
      "(3, 'Shyam', 40, 40, 40, 40, 40, 200, 40.0, 'C')\n",
      "(4, 'Jones', 40, 50, 40, 50, 40, 250, 45.0, 'B')\n",
      "(5, 'Ramesh', 40, 50, 40, 50, 40, 250, 45.0, 'B')\n",
      "(6, 'Sammy', 60, 60, 60, 60, 60, 300, 60.0, 'B')\n",
      "(7, 'dsfs', 234, 234, 234, 24, 24, 750, 150.0, 'A')\n"
     ]
    }
   ],
   "source": [
    "db.execute(\"SELECT * FROM student WHERE name like '%s%'\")\n",
    "result = db.fetchall()\n",
    "for x in result:\n",
    "    print(x)"
   ]
  },
  {
   "cell_type": "code",
   "execution_count": 30,
   "id": "9c709a2f",
   "metadata": {},
   "outputs": [
    {
     "name": "stdout",
     "output_type": "stream",
     "text": [
      "(4, 'Jones', 40, 50, 40, 50, 40, 250, 45.0, 'B')\n",
      "(7, 'dsfs', 234, 234, 234, 24, 24, 750, 150.0, 'A')\n"
     ]
    }
   ],
   "source": [
    "db.execute(\"SELECT * FROM student WHERE name like '%s'\")\n",
    "result = db.fetchall()\n",
    "for x in result:\n",
    "    print(x)"
   ]
  },
  {
   "cell_type": "code",
   "execution_count": 29,
   "id": "b709e73c",
   "metadata": {},
   "outputs": [
    {
     "name": "stdout",
     "output_type": "stream",
     "text": [
      "(3, 'Shyam', 40, 40, 40, 40, 40, 200, 40.0, 'C')\n",
      "(6, 'Sammy', 60, 60, 60, 60, 60, 300, 60.0, 'B')\n"
     ]
    }
   ],
   "source": [
    "db.execute(\"SELECT * FROM student WHERE name like 's%'\")\n",
    "result = db.fetchall()\n",
    "for x in result:\n",
    "    print(x)"
   ]
  },
  {
   "cell_type": "code",
   "execution_count": 31,
   "id": "973af744",
   "metadata": {},
   "outputs": [
    {
     "name": "stdout",
     "output_type": "stream",
     "text": [
      "('Rama', 410, 60.0, 'B')\n",
      "('Hari', 150, 30.0, 'F')\n",
      "('Shyam', 200, 40.0, 'C')\n",
      "('Jones', 250, 45.0, 'B')\n",
      "('Ramesh', 250, 45.0, 'B')\n",
      "('Sammy', 300, 60.0, 'B')\n",
      "('dsfs', 750, 150.0, 'A')\n"
     ]
    }
   ],
   "source": [
    "db.execute(\"SELECT name,total,per,grade FROM student\")\n",
    "result = db.fetchall()\n",
    "for x in result:\n",
    "    print(x)"
   ]
  },
  {
   "cell_type": "code",
   "execution_count": 36,
   "id": "6f492860",
   "metadata": {},
   "outputs": [
    {
     "name": "stdout",
     "output_type": "stream",
     "text": [
      "(7, 'dsfs', 234, 234, 234, 24, 24, 750, 150.0, 'A')\n",
      "(1, 'Rama', 40, 50, 60, 70, 30, 410, 60.0, 'B')\n",
      "(6, 'Sammy', 60, 60, 60, 60, 60, 300, 60.0, 'B')\n",
      "(4, 'Jones', 40, 50, 40, 50, 40, 250, 45.0, 'B')\n",
      "(5, 'Ramesh', 40, 50, 40, 50, 40, 250, 45.0, 'B')\n",
      "(3, 'Shyam', 40, 40, 40, 40, 40, 200, 40.0, 'C')\n",
      "(2, 'Hari', 10, 20, 30, 40, 50, 150, 30.0, 'F')\n"
     ]
    }
   ],
   "source": [
    "db.execute(\"SELECT * FROM student ORDER BY TOTAL DESC\")\n",
    "result = db.fetchall()\n",
    "for x in result:\n",
    "    print(x)"
   ]
  },
  {
   "cell_type": "code",
   "execution_count": null,
   "id": "2966a398",
   "metadata": {},
   "outputs": [],
   "source": []
  }
 ],
 "metadata": {
  "kernelspec": {
   "display_name": "Python 3 (ipykernel)",
   "language": "python",
   "name": "python3"
  },
  "language_info": {
   "codemirror_mode": {
    "name": "ipython",
    "version": 3
   },
   "file_extension": ".py",
   "mimetype": "text/x-python",
   "name": "python",
   "nbconvert_exporter": "python",
   "pygments_lexer": "ipython3",
   "version": "3.11.7"
  }
 },
 "nbformat": 4,
 "nbformat_minor": 5
}
