{
 "cells": [
  {
   "cell_type": "code",
   "execution_count": null,
   "id": "b7cbd4bd",
   "metadata": {},
   "outputs": [],
   "source": [
    "# file = open('<file_name>','mode')\n",
    "\n",
    "# with open('<file_name>','<mode>') as file:\n",
    "#     <operations>"
   ]
  },
  {
   "cell_type": "code",
   "execution_count": null,
   "id": "ae4e5850",
   "metadata": {},
   "outputs": [],
   "source": [
    "# mode\n",
    "# r -> read\n",
    "# x -> create\n",
    "# w -> write\n",
    "# a -> append"
   ]
  },
  {
   "cell_type": "code",
   "execution_count": null,
   "id": "1ba7aeee",
   "metadata": {},
   "outputs": [],
   "source": [
    "#create file\n",
    "file = open('data.txt','x')\n",
    "file.close()"
   ]
  },
  {
   "cell_type": "code",
   "execution_count": null,
   "id": "bd700b1a",
   "metadata": {},
   "outputs": [],
   "source": [
    "#read file\n",
    "file = open('data.txt','r')\n",
    "content = file.read()\n",
    "print(content)\n",
    "file.close()"
   ]
  },
  {
   "cell_type": "code",
   "execution_count": null,
   "id": "779e9681",
   "metadata": {},
   "outputs": [],
   "source": [
    "a = \"apple_ball_cat\"\n",
    "a.split(\"_\")"
   ]
  },
  {
   "cell_type": "code",
   "execution_count": null,
   "id": "a7e8df95",
   "metadata": {},
   "outputs": [],
   "source": [
    "content"
   ]
  },
  {
   "cell_type": "code",
   "execution_count": null,
   "id": "ea186c95",
   "metadata": {},
   "outputs": [],
   "source": [
    "lines = content.split('\\n')\n",
    "lines"
   ]
  },
  {
   "cell_type": "code",
   "execution_count": null,
   "id": "f9efcf19",
   "metadata": {},
   "outputs": [],
   "source": [
    "line_no = int(input(\"Enter line no = \"))\n",
    "lines[line_no-1]"
   ]
  },
  {
   "cell_type": "code",
   "execution_count": 1,
   "id": "dbff9369",
   "metadata": {},
   "outputs": [],
   "source": [
    "#write on file\n",
    "file = open('data1.txt','w')\n",
    "file.write('Hello world')\n",
    "file.close()"
   ]
  },
  {
   "cell_type": "code",
   "execution_count": 7,
   "id": "b44fb22f",
   "metadata": {},
   "outputs": [
    {
     "name": "stdout",
     "output_type": "stream",
     "text": [
      "How many items you bought?: 2\n",
      "name of item: Apple\n",
      "price: 300\n",
      "quantity: 2\n",
      "name of item: Banana\n",
      "price: 100\n",
      "quantity: 3\n"
     ]
    }
   ],
   "source": [
    "total = \"\"\n",
    "totalbill = int()\n",
    "a = int(input(\"How many items you bought?: \"))\n",
    "for i in range(a):\n",
    "    item = input(\"name of item: \")\n",
    "    price = int(input(\"price: \"))\n",
    "    quantity = int(input(\"quantity: \"))\n",
    "    total = total + item + \" \" + str(price) + \" \" + str(quantity) + \" \" + str(price*quantity) + \"\\n\"\n",
    "    totalbill = totalbill + price*quantity\n",
    "\n",
    "file = open('bill.txt','w') #write mode doesnt append, it replaces file\n",
    "file.write(total)\n",
    "#file.write(totalbill) cannot write non string\n",
    "file.close()"
   ]
  },
  {
   "cell_type": "code",
   "execution_count": 8,
   "id": "12ba65ed",
   "metadata": {},
   "outputs": [
    {
     "name": "stdout",
     "output_type": "stream",
     "text": [
      "Apple 300 2 600\n",
      "Banana 100 3 300\n",
      "\n"
     ]
    }
   ],
   "source": [
    "file = open('bill.txt', 'r')\n",
    "content = file.read()\n",
    "print(content)"
   ]
  },
  {
   "cell_type": "code",
   "execution_count": 19,
   "id": "473c8b1c",
   "metadata": {},
   "outputs": [
    {
     "data": {
      "text/plain": [
       "['Apple', '300', '2', '600\\nBanana', '100', '3', '300\\n']"
      ]
     },
     "execution_count": 19,
     "metadata": {},
     "output_type": "execute_result"
    }
   ],
   "source": [
    "data = content.split(' ')\n",
    "data"
   ]
  },
  {
   "cell_type": "code",
   "execution_count": 11,
   "id": "70fec381",
   "metadata": {},
   "outputs": [
    {
     "data": {
      "text/plain": [
       "['Apple 300 2 600', 'Banana 100 3 300', '']"
      ]
     },
     "execution_count": 11,
     "metadata": {},
     "output_type": "execute_result"
    }
   ],
   "source": [
    "data = content.split('\\n')\n",
    "data"
   ]
  },
  {
   "cell_type": "code",
   "execution_count": 12,
   "id": "4699c5fa",
   "metadata": {},
   "outputs": [
    {
     "data": {
      "text/plain": [
       "['Apple 300 2 600', 'Banana 100 3 300']"
      ]
     },
     "execution_count": 12,
     "metadata": {},
     "output_type": "execute_result"
    }
   ],
   "source": [
    "data = content.split('\\n')[:-1]\n",
    "data"
   ]
  },
  {
   "cell_type": "code",
   "execution_count": 17,
   "id": "8c089fd6",
   "metadata": {},
   "outputs": [
    {
     "data": {
      "text/plain": [
       "[['Apple', 300, 2, 600], ['Banana', 100, 3, 300]]"
      ]
     },
     "execution_count": 17,
     "metadata": {},
     "output_type": "execute_result"
    }
   ],
   "source": [
    "list_bill = []\n",
    "for i in data:\n",
    "    x = i.split()\n",
    "    x[1] = int(x[1])\n",
    "    x[2] = int(x[2])\n",
    "    x[3] = int(x[3])\n",
    "    list_bill.append(x)\n",
    "list_bill"
   ]
  },
  {
   "cell_type": "code",
   "execution_count": 20,
   "id": "3526e0a5",
   "metadata": {},
   "outputs": [],
   "source": [
    "#writing list into file\n",
    "import csv\n",
    "file = open('bill1.txt','w')\n",
    "x = csv.writer(file)\n",
    "x.writerows(list_bill)\n",
    "file.close()"
   ]
  },
  {
   "cell_type": "code",
   "execution_count": 21,
   "id": "3b98983e",
   "metadata": {},
   "outputs": [
    {
     "name": "stdout",
     "output_type": "stream",
     "text": [
      "Apple,300,2,600\n",
      "Banana,100,3,300\n",
      "\n"
     ]
    }
   ],
   "source": [
    "file = open('bill1.txt', 'r')\n",
    "content = file.read()\n",
    "print(content)"
   ]
  },
  {
   "cell_type": "code",
   "execution_count": 28,
   "id": "c338228e",
   "metadata": {},
   "outputs": [],
   "source": [
    "#append mode in file\n"
   ]
  },
  {
   "cell_type": "code",
   "execution_count": 33,
   "id": "a378301f",
   "metadata": {},
   "outputs": [
    {
     "name": "stdout",
     "output_type": "stream",
     "text": [
      "Enter n = 2\n",
      "Enter name: ewrw\n",
      "Enter age: 565\n",
      "Enter address: rye\n",
      "Enter name: yiut\n",
      "Enter age: 324\n",
      "Enter address: yuiyu\n"
     ]
    }
   ],
   "source": [
    "file = open('append_bill.txt','a')\n",
    "info = \"\"\n",
    "n = int(input(\"Enter n = \"))\n",
    "for i in range(n):\n",
    "    name = input(\"Enter name: \")\n",
    "    age = int(input(\"Enter age: \"))\n",
    "    add = input(\"Enter address: \")\n",
    "    info = info + f\"{name} {age} {add}\\n\"\n",
    "file.write(info)\n",
    "file.close()"
   ]
  },
  {
   "cell_type": "code",
   "execution_count": 30,
   "id": "e6518e23",
   "metadata": {},
   "outputs": [],
   "source": []
  },
  {
   "cell_type": "code",
   "execution_count": null,
   "id": "5b1510aa",
   "metadata": {},
   "outputs": [],
   "source": []
  }
 ],
 "metadata": {
  "kernelspec": {
   "display_name": "Python 3 (ipykernel)",
   "language": "python",
   "name": "python3"
  },
  "language_info": {
   "codemirror_mode": {
    "name": "ipython",
    "version": 3
   },
   "file_extension": ".py",
   "mimetype": "text/x-python",
   "name": "python",
   "nbconvert_exporter": "python",
   "pygments_lexer": "ipython3",
   "version": "3.11.7"
  }
 },
 "nbformat": 4,
 "nbformat_minor": 5
}
