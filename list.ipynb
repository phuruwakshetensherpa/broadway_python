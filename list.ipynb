{
 "cells": [
  {
   "cell_type": "code",
   "execution_count": 1,
   "id": "98d2c1a1",
   "metadata": {},
   "outputs": [
    {
     "name": "stdout",
     "output_type": "stream",
     "text": [
      "enter a number: 10\n",
      "number: 2\n",
      "number: 3\n",
      "number: 4\n",
      "number: 5\n",
      "number: 6\n",
      "number: 6\n",
      "number: 7\n",
      "number: 8\n",
      "number: 9\n",
      "number: 0\n",
      "[2, 3, 4, 5, 6, 6, 7, 8, 9, 0]\n"
     ]
    }
   ],
   "source": [
    "l = []\n",
    "a = int(input(\"enter a number: \"))\n",
    "for i in range(a):\n",
    "    x = int(input(\"number: \"))\n",
    "    l.append(x)\n",
    "print(l)"
   ]
  },
  {
   "cell_type": "code",
   "execution_count": 8,
   "id": "f755959e",
   "metadata": {},
   "outputs": [
    {
     "name": "stdout",
     "output_type": "stream",
     "text": [
      "min value:  0\n",
      "max value:  9\n",
      "sum value:  50\n",
      "[0, 2, 3, 4, 5, 6, 6, 7, 8, 9]\n",
      "[9, 8, 7, 6, 6, 5, 4, 3, 2, 0]\n"
     ]
    }
   ],
   "source": [
    "print(\"min value: \",min(l))\n",
    "print(\"max value: \",max(l))\n",
    "print(\"sum value: \",sum(l))\n",
    "l.sort()\n",
    "print(l)\n",
    "l.reverse()\n",
    "print(l)"
   ]
  },
  {
   "cell_type": "code",
   "execution_count": 9,
   "id": "23098c08",
   "metadata": {},
   "outputs": [
    {
     "name": "stdout",
     "output_type": "stream",
     "text": [
      "['hari', 'ram', 'shyam']\n"
     ]
    }
   ],
   "source": [
    "a = [\"ram\", \"shyam\", \"hari\"]\n",
    "a.sort()\n",
    "print(a)"
   ]
  },
  {
   "cell_type": "code",
   "execution_count": 12,
   "id": "46cf878f",
   "metadata": {},
   "outputs": [
    {
     "name": "stdout",
     "output_type": "stream",
     "text": [
      "['hari', 'harry', 'ram', 'shyam']\n"
     ]
    }
   ],
   "source": [
    "a.insert(1, \"harry\")\n",
    "print(a)"
   ]
  },
  {
   "cell_type": "code",
   "execution_count": 13,
   "id": "07a05521",
   "metadata": {},
   "outputs": [
    {
     "name": "stdout",
     "output_type": "stream",
     "text": [
      "['hari', 'harry', 'ram', 'shyam', 1, 2, 3, 4, 5]\n"
     ]
    }
   ],
   "source": [
    "b = [1,2,3,4,5]\n",
    "a.extend(b)\n",
    "print(a)"
   ]
  },
  {
   "cell_type": "code",
   "execution_count": 22,
   "id": "4b882c86",
   "metadata": {},
   "outputs": [
    {
     "name": "stdout",
     "output_type": "stream",
     "text": [
      "['Jack', 'John', 'jackie', 'doggie', 'shyam', 'hari', 'gita', 'sita']\n",
      "[['Jack', 'John'], 'John', 'jackie', 'doggie', 'shyam', 'hari', 'gita', 'sita']\n",
      "['Jack', 'John', ['Jack', 'John'], 'John', 'jackie', 'doggie', 'shyam', 'hari', 'gita', 'sita']\n"
     ]
    }
   ],
   "source": [
    "x = [\"ram\", \"shyam\", \"hari\", \"gita\", \"sita\"]\n",
    "x[0:1] = [\"Jack\",\"John\",\"jackie\",\"doggie\"]\n",
    "print(x)\n",
    "x[0] = [\"Jack\",\"John\"]\n",
    "print(x)\n",
    "x[0:0]=[\"Jack\",\"John\"]\n",
    "print(x)"
   ]
  },
  {
   "cell_type": "code",
   "execution_count": 19,
   "id": "3d18ed77",
   "metadata": {},
   "outputs": [
    {
     "name": "stdout",
     "output_type": "stream",
     "text": [
      "['john', 'jack', 'shyam', 'hari', 'gita', 'sita']\n"
     ]
    }
   ],
   "source": [
    "x = [\"ram\", \"shyam\", \"hari\", \"gita\", \"sita\"]\n",
    "x[0:1]=[\"john\",\"jack\"]\n",
    "print(x)"
   ]
  },
  {
   "cell_type": "code",
   "execution_count": 24,
   "id": "e47f86e9",
   "metadata": {},
   "outputs": [
    {
     "name": "stdout",
     "output_type": "stream",
     "text": [
      "['shyam', 'hari', 'gita', 'sita']\n"
     ]
    }
   ],
   "source": [
    "x = [\"ram\", \"shyam\", \"hari\", \"gita\", \"sita\"]\n",
    "del x[0]\n",
    "print(x)"
   ]
  },
  {
   "cell_type": "code",
   "execution_count": 25,
   "id": "b343785f",
   "metadata": {},
   "outputs": [
    {
     "name": "stdout",
     "output_type": "stream",
     "text": [
      "['hari', 'gita', 'sita']\n"
     ]
    }
   ],
   "source": [
    "x = [\"ram\", \"shyam\", \"hari\", \"gita\", \"sita\"]\n",
    "del x[0:2]\n",
    "print(x)"
   ]
  },
  {
   "cell_type": "code",
   "execution_count": 26,
   "id": "d814007b",
   "metadata": {},
   "outputs": [
    {
     "name": "stdout",
     "output_type": "stream",
     "text": [
      "['ram', 'shyam', 'hari', 'gita', 'sita']\n"
     ]
    }
   ],
   "source": [
    "x = [\"ram\", \"shyam\", \"hari\", \"gita\", \"sita\"]\n",
    "del x[1:1]\n",
    "print(x)"
   ]
  },
  {
   "cell_type": "code",
   "execution_count": 27,
   "id": "c7732f57",
   "metadata": {},
   "outputs": [
    {
     "name": "stdout",
     "output_type": "stream",
     "text": [
      "['shyam', 'hari', 'gita', 'sita']\n"
     ]
    }
   ],
   "source": [
    "x = [\"ram\", \"shyam\", \"hari\", \"gita\", \"sita\"]\n",
    "x.remove(\"ram\")\n",
    "print(x)"
   ]
  },
  {
   "cell_type": "code",
   "execution_count": 28,
   "id": "be37bdd4",
   "metadata": {},
   "outputs": [
    {
     "name": "stdout",
     "output_type": "stream",
     "text": [
      "['ram', 'shyam', 'hari', 'gita']\n"
     ]
    }
   ],
   "source": [
    "x = [\"ram\", \"shyam\", \"hari\", \"gita\", \"sita\"]\n",
    "x.pop()\n",
    "print(x)"
   ]
  },
  {
   "cell_type": "code",
   "execution_count": 29,
   "id": "37f69aa0",
   "metadata": {},
   "outputs": [
    {
     "name": "stdout",
     "output_type": "stream",
     "text": [
      "['ram', 'hari', 'gita', 'sita']\n"
     ]
    }
   ],
   "source": [
    "x = [\"ram\", \"shyam\", \"hari\", \"gita\", \"sita\"]\n",
    "x.pop(1) #only one at a time\n",
    "print(x)"
   ]
  },
  {
   "cell_type": "code",
   "execution_count": 33,
   "id": "08a7c750",
   "metadata": {},
   "outputs": [
    {
     "name": "stdout",
     "output_type": "stream",
     "text": [
      "['ram', 'hari', 'gita', 'sita']\n",
      "gita\n",
      "['ram', 'hari', 'sita']\n"
     ]
    }
   ],
   "source": [
    "x = [\"ram\", \"shyam\", \"hari\", \"gita\", \"sita\"]\n",
    "y = x.pop(1) #only one at a time #also moves to another place unlike delete\n",
    "print(x)\n",
    "y = x.pop(2)\n",
    "print(y)\n",
    "print(x)"
   ]
  },
  {
   "cell_type": "code",
   "execution_count": 34,
   "id": "91d2ec16",
   "metadata": {},
   "outputs": [
    {
     "name": "stdout",
     "output_type": "stream",
     "text": [
      "ram\n",
      "shyam\n",
      "hari\n",
      "gita\n",
      "sita\n"
     ]
    }
   ],
   "source": [
    "x = [\"ram\", \"shyam\", \"hari\", \"gita\", \"sita\"]\n",
    "for i in x:\n",
    "    print(i)"
   ]
  },
  {
   "cell_type": "code",
   "execution_count": 35,
   "id": "5e245867",
   "metadata": {},
   "outputs": [
    {
     "name": "stdout",
     "output_type": "stream",
     "text": [
      "ram\n",
      "shyam\n",
      "hari\n",
      "gita\n",
      "sita\n"
     ]
    }
   ],
   "source": [
    "i = 0\n",
    "x = [\"ram\", \"shyam\", \"hari\", \"gita\", \"sita\"]\n",
    "l = len(x)\n",
    "while i<l:\n",
    "    print(x[i])\n",
    "    i = i+1"
   ]
  },
  {
   "cell_type": "code",
   "execution_count": 37,
   "id": "d561a237",
   "metadata": {},
   "outputs": [
    {
     "name": "stdout",
     "output_type": "stream",
     "text": [
      "['ram', 'shyam', 'gita', 'sita', 'hari']\n"
     ]
    }
   ],
   "source": [
    "x = [\"ram\", \"shyam\", \"hari\", \"gita\", \"sita\",\"hari\"]\n",
    "x.remove(\"hari\")\n",
    "print(x)"
   ]
  },
  {
   "cell_type": "code",
   "execution_count": 41,
   "id": "c8e95952",
   "metadata": {},
   "outputs": [
    {
     "name": "stdout",
     "output_type": "stream",
     "text": [
      "['ram', 'shyam', 'gita', 'sita']\n"
     ]
    }
   ],
   "source": [
    "x = [\"ram\", \"shyam\", \"hari\", \"gita\", \"sita\",\"hari\",\"hari\"]\n",
    "c = x.count(\"hari\")\n",
    "for i in range(c):\n",
    "    x.remove(\"hari\")\n",
    "print(x)"
   ]
  },
  {
   "cell_type": "code",
   "execution_count": 43,
   "id": "50de6520",
   "metadata": {},
   "outputs": [
    {
     "name": "stdout",
     "output_type": "stream",
     "text": [
      "Yes 3\n"
     ]
    }
   ],
   "source": [
    "x = [\"ram\", \"shyam\", \"hari\", \"gita\", \"sita\",\"hari\",\"hari\"]\n",
    "if \"hari\" in x:\n",
    "    print(\"Yes\", x.count(\"hari\"))\n",
    "else:\n",
    "    print(\"No\")"
   ]
  },
  {
   "cell_type": "code",
   "execution_count": 57,
   "id": "a8df8e6a",
   "metadata": {},
   "outputs": [
    {
     "name": "stdout",
     "output_type": "stream",
     "text": [
      "2\n",
      "5\n",
      "6\n"
     ]
    }
   ],
   "source": [
    "x = [\"ram\", \"shyam\", \"hari\", \"gita\", \"sita\",\"hari\",\"hari\"]\n",
    "length = len(x)\n",
    "for i in range(length):\n",
    "    if x[i]==\"hari\":\n",
    "        print(i)"
   ]
  },
  {
   "cell_type": "code",
   "execution_count": 63,
   "id": "ff941f11",
   "metadata": {},
   "outputs": [
    {
     "name": "stdout",
     "output_type": "stream",
     "text": [
      "enter a name= HAri\n",
      "2\n",
      "5\n",
      "6\n"
     ]
    }
   ],
   "source": [
    "x = [\"ram\", \"shyam\", \"hari\", \"gita\", \"sita\",\"hari\",\"hari\"]\n",
    "name = input(\"enter a name= \")\n",
    "length = len(x)\n",
    "for i in range(length):\n",
    "    if x[i].lower()==name.lower():\n",
    "        print(i)"
   ]
  },
  {
   "cell_type": "code",
   "execution_count": 2,
   "id": "c7b954b1",
   "metadata": {},
   "outputs": [
    {
     "name": "stdout",
     "output_type": "stream",
     "text": [
      "[['ram', 34, 'kathmandu'], ['shyam', 20, 'pokhara'], ['hari', 30, 'nepalganj']]\n",
      "3\n"
     ]
    }
   ],
   "source": [
    "info = [[\"ram\",34,\"kathmandu\"],[\"shyam\",20,\"pokhara\"],[\"hari\",30,\"nepalganj\"]]\n",
    "print(info)\n",
    "print(len(info))"
   ]
  },
  {
   "cell_type": "code",
   "execution_count": 6,
   "id": "79e400b3",
   "metadata": {},
   "outputs": [
    {
     "data": {
      "text/plain": [
       "['ram', 34, 'kathmandu']"
      ]
     },
     "execution_count": 6,
     "metadata": {},
     "output_type": "execute_result"
    }
   ],
   "source": [
    "info[0]\n",
    "#not info(0) list is not callable"
   ]
  },
  {
   "cell_type": "code",
   "execution_count": 7,
   "id": "3a163a5e",
   "metadata": {},
   "outputs": [
    {
     "data": {
      "text/plain": [
       "'ram'"
      ]
     },
     "execution_count": 7,
     "metadata": {},
     "output_type": "execute_result"
    }
   ],
   "source": [
    "info[0][0]"
   ]
  },
  {
   "cell_type": "code",
   "execution_count": 8,
   "id": "302511a4",
   "metadata": {},
   "outputs": [
    {
     "name": "stdout",
     "output_type": "stream",
     "text": [
      "enter n: 2\n",
      "name: rar\n",
      "age: 23\n",
      "address: sdfas\n",
      "name: sfaas\n",
      "age: 34\n",
      "address: sdf\n",
      "[['rar', 23, 'sdfas'], ['sfaas', 34, 'sdf']]\n"
     ]
    }
   ],
   "source": [
    "name_list = []\n",
    "n = int(input(\"enter n: \"))\n",
    "for i in range(n):\n",
    "    name = input(\"name: \")\n",
    "    age = int(input(\"age: \"))\n",
    "    add = input(\"address: \")\n",
    "    x = [name, age, add]\n",
    "    name_list.append(x)\n",
    "print(name_list)"
   ]
  },
  {
   "cell_type": "code",
   "execution_count": 10,
   "id": "3f024828",
   "metadata": {},
   "outputs": [
    {
     "data": {
      "text/plain": [
       "[['rar', 23, 'sdfas'], ['sfaas', 34, 'sdf'], ['hari', 23, 'sadfs']]"
      ]
     },
     "execution_count": 10,
     "metadata": {},
     "output_type": "execute_result"
    }
   ],
   "source": [
    "name_list.append([\"hari\",23,\"sadfs\"])\n",
    "name_list"
   ]
  },
  {
   "cell_type": "code",
   "execution_count": 11,
   "id": "ac92d980",
   "metadata": {},
   "outputs": [
    {
     "data": {
      "text/plain": [
       "[['shyam', 23, 'sdfas'], ['sfaas', 34, 'sdf'], ['hari', 23, 'sadfs']]"
      ]
     },
     "execution_count": 11,
     "metadata": {},
     "output_type": "execute_result"
    }
   ],
   "source": [
    "name_list[0][0] = \"shyam\"\n",
    "name_list"
   ]
  },
  {
   "cell_type": "code",
   "execution_count": 12,
   "id": "ca7e6f9f",
   "metadata": {},
   "outputs": [
    {
     "data": {
      "text/plain": [
       "[['sfaas', 34, 'sdf'], ['hari', 23, 'sadfs']]"
      ]
     },
     "execution_count": 12,
     "metadata": {},
     "output_type": "execute_result"
    }
   ],
   "source": [
    "a = [['shyam', 23, 'sdfas'], ['sfaas', 34, 'sdf'], ['hari', 23, 'sadfs']]\n",
    "del a[0]\n",
    "a"
   ]
  },
  {
   "cell_type": "code",
   "execution_count": 16,
   "id": "d12681fa",
   "metadata": {},
   "outputs": [
    {
     "name": "stdout",
     "output_type": "stream",
     "text": [
      "[['shyam', 23, 'sdfas'], ['sfaas', 34, 'sdf']]\n",
      "['hari', 23, 'sadfs']\n"
     ]
    }
   ],
   "source": [
    "b = [['shyam', 23, 'sdfas'], ['sfaas', 34, 'sdf'], ['hari', 23, 'sadfs']]\n",
    "c = b.pop()\n",
    "print(b)\n",
    "print(c)"
   ]
  },
  {
   "cell_type": "code",
   "execution_count": 17,
   "id": "139cc6e4",
   "metadata": {},
   "outputs": [
    {
     "name": "stdout",
     "output_type": "stream",
     "text": [
      "[['shyam', 23, 'sdfas'], ['hari', 23, 'sadfs']]\n",
      "['sfaas', 34, 'sdf']\n"
     ]
    }
   ],
   "source": [
    "b = [['shyam', 23, 'sdfas'], ['sfaas', 34, 'sdf'], ['hari', 23, 'sadfs']]\n",
    "c = b.pop(1)\n",
    "print(b)\n",
    "print(c)"
   ]
  },
  {
   "cell_type": "code",
   "execution_count": 7,
   "id": "22195baa",
   "metadata": {},
   "outputs": [
    {
     "name": "stdout",
     "output_type": "stream",
     "text": [
      "enter name to search: shyam\n",
      "['shyam', 23, 'sdfas']\n"
     ]
    }
   ],
   "source": [
    "#search in list inside list\n",
    "list1 = [['shyam', 23, 'sdfas'], ['sfaas', 34, 'sdf'], ['hari', 23, 'sadfs']]\n",
    "name = input(\"enter name to search: \")\n",
    "for i in list1:\n",
    "    if name in i:\n",
    "        print(i)"
   ]
  },
  {
   "cell_type": "code",
   "execution_count": 11,
   "id": "49fe97cf",
   "metadata": {},
   "outputs": [
    {
     "name": "stdout",
     "output_type": "stream",
     "text": [
      "enter name to search: shyam\n",
      "0\n",
      "3\n"
     ]
    }
   ],
   "source": [
    "list1 = [['shyam', 23, 'sdfas'], ['sfaas', 34, 'sdf'], ['hari', 23, 'sadfs'],['shyam', 23, 'sdfas']]\n",
    "name = input(\"enter name to search: \")\n",
    "l = len(list1)\n",
    "for i in range(l):\n",
    "    if name in list1[i]:\n",
    "        print(i)"
   ]
  },
  {
   "cell_type": "code",
   "execution_count": 12,
   "id": "98bfc098",
   "metadata": {},
   "outputs": [
    {
     "name": "stdout",
     "output_type": "stream",
     "text": [
      "enter r: 2\n",
      "enter c: 3\n",
      "Enter x: 1\n",
      "Enter x: 2\n",
      "Enter x: 3\n",
      "Enter x: 1\n",
      "Enter x: 2\n",
      "Enter x: 3\n",
      "[[1, 2, 3], [1, 2, 3]]\n"
     ]
    }
   ],
   "source": [
    "m = []\n",
    "r = int(input(\"enter r: \"))\n",
    "c = int(input(\"enter c: \"))\n",
    "\n",
    "for i in range(r):\n",
    "    y = []\n",
    "    for j in range (c):\n",
    "        x = int(input(\"Enter x: \"))\n",
    "        y.append(x)\n",
    "    m.append(y)\n",
    "print(m)"
   ]
  },
  {
   "cell_type": "code",
   "execution_count": null,
   "id": "0799e7ab",
   "metadata": {},
   "outputs": [],
   "source": []
  }
 ],
 "metadata": {
  "kernelspec": {
   "display_name": "Python 3 (ipykernel)",
   "language": "python",
   "name": "python3"
  },
  "language_info": {
   "codemirror_mode": {
    "name": "ipython",
    "version": 3
   },
   "file_extension": ".py",
   "mimetype": "text/x-python",
   "name": "python",
   "nbconvert_exporter": "python",
   "pygments_lexer": "ipython3",
   "version": "3.11.7"
  }
 },
 "nbformat": 4,
 "nbformat_minor": 5
}
