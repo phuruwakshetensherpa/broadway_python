{
 "cells": [
  {
   "cell_type": "code",
   "execution_count": 1,
   "id": "8f19fe6a",
   "metadata": {},
   "outputs": [
    {
     "name": "stdout",
     "output_type": "stream",
     "text": [
      "Hello world\n"
     ]
    }
   ],
   "source": [
    "print(\"Hello world\")"
   ]
  },
  {
   "cell_type": "code",
   "execution_count": 2,
   "id": "f44afce5",
   "metadata": {},
   "outputs": [
    {
     "name": "stdout",
     "output_type": "stream",
     "text": [
      "30\n"
     ]
    }
   ],
   "source": [
    "+ - * / % //"
   ]
  },
  {
   "cell_type": "code",
   "execution_count": 8,
   "id": "e3ad0073",
   "metadata": {},
   "outputs": [
    {
     "name": "stdout",
     "output_type": "stream",
     "text": [
      "18\n",
      "8\n",
      "3\n",
      "2\n"
     ]
    }
   ],
   "source": [
    "a = 13\n",
    "b = 5\n",
    "print(a+b)\n",
    "print(a-b)\n",
    "print(a%b)\n",
    "print(a//b)   "
   ]
  },
  {
   "cell_type": "code",
   "execution_count": 14,
   "id": "1cc682eb",
   "metadata": {},
   "outputs": [
    {
     "name": "stdout",
     "output_type": "stream",
     "text": [
      "What is your name?ram\n",
      "Hello ram\n"
     ]
    }
   ],
   "source": [
    "a = input(\"What is your name?\")\n",
    "print(\"Hello \" + a)"
   ]
  },
  {
   "cell_type": "code",
   "execution_count": 1,
   "id": "43b2f262",
   "metadata": {},
   "outputs": [
    {
     "name": "stdout",
     "output_type": "stream",
     "text": [
      "10\n",
      "10\n",
      "1010\n"
     ]
    }
   ],
   "source": [
    "a = input()\n",
    "b = input()\n",
    "print(a+b)"
   ]
  },
  {
   "cell_type": "code",
   "execution_count": 12,
   "id": "f6186886",
   "metadata": {},
   "outputs": [
    {
     "name": "stdout",
     "output_type": "stream",
     "text": [
      "Principal: 10\n",
      "Time: 2\n",
      "Rate: 3\n",
      "Simple Interest 0.6\n"
     ]
    }
   ],
   "source": [
    "p = int(input(\"Principal: \"))\n",
    "t = float(input(\"Time: \"))\n",
    "r = float(input(\"Rate: \"))\n",
    "si = p*t*r/100\n",
    "print(\"Simple Interest\", si)"
   ]
  },
  {
   "cell_type": "code",
   "execution_count": 6,
   "id": "4f80618b",
   "metadata": {},
   "outputs": [
    {
     "name": "stdout",
     "output_type": "stream",
     "text": [
      "english: 50\n",
      "maths: 60\n",
      "science: 30\n",
      "social: 40\n",
      "nepali: 50\n",
      "Total = 230\n",
      "Percentage = 46.0 %\n",
      "Fail\n",
      "Grade = C\n"
     ]
    }
   ],
   "source": [
    "#WAP to take subject marks from user and find total and percentage\n",
    "a = int(input(\"english: \"))\n",
    "b = int(input(\"maths: \"))\n",
    "c = int(input(\"science: \"))\n",
    "d = int(input(\"social: \"))\n",
    "e = int(input(\"nepali: \"))\n",
    "total= a+b+c+d+e\n",
    "per=total/5\n",
    "print(\"Total =\", total)\n",
    "print(\"Percentage =\",per,\"%\")\n",
    "\n",
    "if a>=40 and b>=40 and c>=40 and d>=40 and e>=40:\n",
    "    print(\"Pass\")\n",
    "else:\n",
    "    print(\"Fail\")\n",
    "    \n",
    "if per>=80:\n",
    "    grade = \"A\"\n",
    "elif per>=60:\n",
    "    grade = \"B\"\n",
    "elif per>=40:\n",
    "    grade = \"C\"\n",
    "else:\n",
    "    grade = \"D\"\n",
    "print(\"Grade =\", grade)"
   ]
  },
  {
   "cell_type": "code",
   "execution_count": 5,
   "id": "b6736b68",
   "metadata": {},
   "outputs": [
    {
     "name": "stdout",
     "output_type": "stream",
     "text": [
      "a: 5\n",
      "b: 10\n",
      "Operator: *\n",
      "a * b =  50\n"
     ]
    }
   ],
   "source": [
    "#WAP to make a calculator\n",
    "a = int(input(\"a: \"))\n",
    "b = int(input(\"b: \"))\n",
    "o = input(\"Operator: \")\n",
    "\n",
    "if o == \"+\":\n",
    "    result = a + b\n",
    "    print(\"a\",o,\"b = \",result)\n",
    "elif o == \"-\":\n",
    "    result = a - b\n",
    "    print(\"a\",o,\"b = \",result)\n",
    "elif o == \"*\":\n",
    "    result = a * b\n",
    "    print(\"a\",o,\"b = \",result)\n",
    "elif o == \"/\" and b!=0:\n",
    "    result = a / b\n",
    "    print(\"a\",o,\"b = \",result)\n",
    "elif o == \"/\" and b==0:\n",
    "    print(\"Value of b cannot be zero\")\n",
    "else:\n",
    "    print(\"Invalid operator\")\n",
    "    \n"
   ]
  },
  {
   "cell_type": "code",
   "execution_count": 1,
   "id": "912116bd",
   "metadata": {},
   "outputs": [
    {
     "name": "stdout",
     "output_type": "stream",
     "text": [
      "Enter x = 5\n",
      "5 x 1 = 5\n",
      "5 x 2 = 10\n",
      "5 x 3 = 15\n",
      "5 x 4 = 20\n",
      "5 x 5 = 25\n",
      "5 x 6 = 30\n",
      "5 x 7 = 35\n",
      "5 x 8 = 40\n",
      "5 x 9 = 45\n",
      "5 x 10 = 50\n"
     ]
    }
   ],
   "source": [
    "x = int(input(\"Enter x = \"))\n",
    "for i in range(1,11):\n",
    "    print(x,\"x\",i,\"=\",x*i)"
   ]
  },
  {
   "cell_type": "code",
   "execution_count": 8,
   "id": "f42f7a76",
   "metadata": {},
   "outputs": [
    {
     "name": "stdout",
     "output_type": "stream",
     "text": [
      "value of x: 1\n",
      "value of x: 2\n",
      "value of x: 3\n",
      "value of x: 4\n",
      "value of x: 5\n",
      "15\n"
     ]
    }
   ],
   "source": [
    "a = int() #equal as initialize as 0\n",
    "for i in range(5):\n",
    "    x = int(input(\"value of x: \"))\n",
    "    a += x\n",
    "print(a)"
   ]
  },
  {
   "cell_type": "markdown",
   "id": "fb1453bc",
   "metadata": {},
   "source": []
  },
  {
   "cell_type": "code",
   "execution_count": 4,
   "id": "efbc51fc",
   "metadata": {},
   "outputs": [
    {
     "name": "stdout",
     "output_type": "stream",
     "text": [
      "value of x: a\n",
      "value of x: v\n",
      "value of x: vc\n",
      "value of x: d\n",
      "value of x: e\n",
      "avvcde\n"
     ]
    }
   ],
   "source": [
    "a = str() #equal as empty string\n",
    "for i in range(5):\n",
    "    x = input(\"value of x: \")\n",
    "    a += x\n",
    "print(a)"
   ]
  },
  {
   "cell_type": "code",
   "execution_count": 16,
   "id": "98de4cf5",
   "metadata": {},
   "outputs": [
    {
     "name": "stdout",
     "output_type": "stream",
     "text": [
      "Enter name: ram\n",
      "Enter phone: 234\n",
      "Enter name: ram\n",
      "Enter phone: 234\n",
      "Enter name: ram\n",
      "Enter phone: 4545\n",
      "ram 234\n",
      "ram 234\n",
      "ram 4545\n",
      "\n"
     ]
    }
   ],
   "source": [
    "#WAP name and phone number\n",
    "contact = \"\"\n",
    "for i in range(3):\n",
    "    name = input(\"Enter name: \")\n",
    "    phone = input(\"Enter phone: \")\n",
    "    contact = contact + name + \" \" + phone + \"\\n\"\n",
    "print(contact)"
   ]
  },
  {
   "cell_type": "code",
   "execution_count": 22,
   "id": "90eb8e9f",
   "metadata": {},
   "outputs": [
    {
     "name": "stdout",
     "output_type": "stream",
     "text": [
      "Give a number: 5\n",
      "Factorial of 5 : 120\n"
     ]
    }
   ],
   "source": [
    "#WAP for factorial\n",
    "fac = 1\n",
    "a = int(input(\"Give a number: \"))\n",
    "for i in range(1,a+1):\n",
    "    fac = fac * i\n",
    "print(\"Factorial of\",a,\":\",fac)"
   ]
  },
  {
   "cell_type": "code",
   "execution_count": 3,
   "id": "709c0aef",
   "metadata": {},
   "outputs": [
    {
     "name": "stdout",
     "output_type": "stream",
     "text": [
      "How many items you bought?: 3\n",
      "name of item: coke\n",
      "price: 300\n",
      "quantity: 2\n",
      "name of item: pizza\n",
      "price: 800\n",
      "quantity: 1\n",
      "name of item: momo\n",
      "price: 150\n",
      "quantity: 4\n",
      "coke 300 2 600\n",
      "pizza 800 1 800\n",
      "momo 150 4 600\n",
      "\n",
      "Total bill:  2000\n"
     ]
    }
   ],
   "source": [
    "## WAP to make a billing system\n",
    "#name price quantity total\n",
    "#coke 100 3 300\n",
    "\n",
    "total = \"\"\n",
    "totalbill = int()\n",
    "a = int(input(\"How many items you bought?: \"))\n",
    "for i in range(a):\n",
    "    item = input(\"name of item: \")\n",
    "    price = int(input(\"price: \"))\n",
    "    quantity = int(input(\"quantity: \"))\n",
    "    total = total + item + \" \" + str(price) + \" \" + str(quantity) + \" \" + str(price*quantity) + \"\\n\"\n",
    "    totalbill = totalbill + price*quantity\n",
    "print(total)\n",
    "print(\"Total bill: \",totalbill)"
   ]
  },
  {
   "cell_type": "markdown",
   "id": "cd0d16cd",
   "metadata": {},
   "source": []
  },
  {
   "cell_type": "code",
   "execution_count": 5,
   "id": "c1fa6808",
   "metadata": {},
   "outputs": [
    {
     "name": "stdout",
     "output_type": "stream",
     "text": [
      "a\n",
      "p\n",
      "p\n",
      "l\n",
      "e\n"
     ]
    }
   ],
   "source": [
    "a = \"apple\" #however int is not iterable\n",
    "for i in a:\n",
    "    print(i)"
   ]
  },
  {
   "cell_type": "code",
   "execution_count": 7,
   "id": "d32ff1ac",
   "metadata": {},
   "outputs": [
    {
     "name": "stdout",
     "output_type": "stream",
     "text": [
      "i need apple"
     ]
    }
   ],
   "source": [
    "a = \"i need apple\" #however int is not iterable\n",
    "for i in a:\n",
    "    print(i, end=\"\")"
   ]
  },
  {
   "cell_type": "code",
   "execution_count": 20,
   "id": "45aef4be",
   "metadata": {},
   "outputs": [
    {
     "name": "stdout",
     "output_type": "stream",
     "text": [
      "i need apple i need samsung"
     ]
    }
   ],
   "source": [
    "a = \"i need apple. i need samsung.\" #however int is not iterable\n",
    "for i in a:\n",
    "    if i!=\".\":\n",
    "        print(i,end=\"\")"
   ]
  },
  {
   "cell_type": "code",
   "execution_count": 22,
   "id": "32e9bc62",
   "metadata": {},
   "outputs": [
    {
     "name": "stdout",
     "output_type": "stream",
     "text": [
      "0\n",
      "1\n",
      "2\n",
      "3\n",
      "4\n"
     ]
    }
   ],
   "source": [
    "for i in range(10):\n",
    "    if i == 5:\n",
    "        break\n",
    "    print(i)"
   ]
  },
  {
   "cell_type": "code",
   "execution_count": 24,
   "id": "3d08a807",
   "metadata": {},
   "outputs": [
    {
     "name": "stdout",
     "output_type": "stream",
     "text": [
      "i need apple"
     ]
    }
   ],
   "source": [
    "a = \"i need apple. i need samsung.\" #however int is not iterable\n",
    "for i in a:\n",
    "    if i==\".\":\n",
    "        break\n",
    "    print(i,end=\"\")"
   ]
  },
  {
   "cell_type": "code",
   "execution_count": 26,
   "id": "dc73ccd4",
   "metadata": {},
   "outputs": [
    {
     "name": "stdout",
     "output_type": "stream",
     "text": [
      "012346789"
     ]
    }
   ],
   "source": [
    "for i in range(10):\n",
    "    if i == 5:\n",
    "        continue\n",
    "    print(i,end=\"\")"
   ]
  },
  {
   "cell_type": "code",
   "execution_count": 28,
   "id": "ee8f281d",
   "metadata": {},
   "outputs": [
    {
     "name": "stdout",
     "output_type": "stream",
     "text": [
      "0\n",
      "1\n",
      "2\n",
      "3\n",
      "4\n"
     ]
    }
   ],
   "source": [
    "a = 0\n",
    "while a<5:\n",
    "    print(a)\n",
    "    a = a + 1 #infinite execution"
   ]
  },
  {
   "cell_type": "code",
   "execution_count": 41,
   "id": "a9c1a90a",
   "metadata": {},
   "outputs": [
    {
     "name": "stdout",
     "output_type": "stream",
     "text": [
      "5\n",
      "5\n",
      "10\n",
      "15\n",
      "20\n",
      "25\n",
      "30\n",
      "35\n",
      "40\n",
      "45\n",
      "50\n"
     ]
    }
   ],
   "source": [
    "i = 1\n",
    "a = int(input())\n",
    "while i<=10:\n",
    "    print(i*a)\n",
    "    i+=1"
   ]
  },
  {
   "cell_type": "code",
   "execution_count": 45,
   "id": "e1fd2e2e",
   "metadata": {},
   "outputs": [
    {
     "name": "stdout",
     "output_type": "stream",
     "text": [
      "How many items you bought?: 3\n",
      "name of item: sdfsf\n",
      "price: 23\n",
      "quantity: 23\n",
      "name of item: sdfs\n",
      "price: 23\n",
      "quantity: 4345\n",
      "name of item: dgdg\n",
      "price: 2\n",
      "quantity: 34\n",
      "sdfsf 23 23 529\n",
      "sdfs 23 4345 99935\n",
      "dgdg 2 34 68\n",
      "\n",
      "Total bill:  100532\n"
     ]
    }
   ],
   "source": [
    "## WAP to make a billing system\n",
    "#name price quantity total\n",
    "#coke 100 3 300\n",
    "\n",
    "i=0\n",
    "total = \"\"\n",
    "totalbill = int()\n",
    "a = int(input(\"How many items you bought?: \"))\n",
    "while i<a:\n",
    "    item = input(\"name of item: \")\n",
    "    price = int(input(\"price: \"))\n",
    "    quantity = int(input(\"quantity: \"))\n",
    "    total = total + item + \" \" + str(price) + \" \" + str(quantity) + \" \" + str(price*quantity) + \"\\n\"\n",
    "    totalbill = totalbill + price*quantity\n",
    "    i+=1\n",
    "print(total)\n",
    "print(\"Total bill: \",totalbill)"
   ]
  },
  {
   "cell_type": "code",
   "execution_count": 3,
   "id": "f45502a8",
   "metadata": {},
   "outputs": [
    {
     "name": "stdout",
     "output_type": "stream",
     "text": [
      "enter a number: 7\n",
      "Composite\n",
      "Composite\n",
      "Composite\n",
      "Composite\n",
      "Composite\n",
      "Composite\n",
      "Composite\n"
     ]
    }
   ],
   "source": [
    "#WAP to find given no prime or composite\n",
    "a = int(input(\"enter a number: \"))\n",
    "if a>1:\n",
    "    for i in range(a):\n",
    "        if i==a and i%a==0:\n",
    "            print(\"The number is prime.\")\n",
    "        else:\n",
    "            print(\"Composite\")\n",
    "    "
   ]
  },
  {
   "cell_type": "code",
   "execution_count": null,
   "id": "d488dcfb",
   "metadata": {},
   "outputs": [],
   "source": []
  }
 ],
 "metadata": {
  "kernelspec": {
   "display_name": "Python 3 (ipykernel)",
   "language": "python",
   "name": "python3"
  },
  "language_info": {
   "codemirror_mode": {
    "name": "ipython",
    "version": 3
   },
   "file_extension": ".py",
   "mimetype": "text/x-python",
   "name": "python",
   "nbconvert_exporter": "python",
   "pygments_lexer": "ipython3",
   "version": "3.11.7"
  }
 },
 "nbformat": 4,
 "nbformat_minor": 5
}
