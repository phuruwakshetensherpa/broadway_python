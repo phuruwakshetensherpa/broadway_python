{
 "cells": [
  {
   "cell_type": "code",
   "execution_count": 1,
   "id": "03e8ada8",
   "metadata": {},
   "outputs": [
    {
     "name": "stdout",
     "output_type": "stream",
     "text": [
      "<class 'str'>\n"
     ]
    }
   ],
   "source": [
    "a = \"hello world\"\n",
    "print(type(a))"
   ]
  },
  {
   "cell_type": "code",
   "execution_count": 2,
   "id": "769b9629",
   "metadata": {},
   "outputs": [
    {
     "name": "stdout",
     "output_type": "stream",
     "text": [
      "helloworld\n"
     ]
    }
   ],
   "source": [
    "a = \"hello\"\n",
    "b = \"world\"\n",
    "c = a + b\n",
    "print(c)"
   ]
  },
  {
   "cell_type": "code",
   "execution_count": 3,
   "id": "7b2801ff",
   "metadata": {},
   "outputs": [
    {
     "name": "stdout",
     "output_type": "stream",
     "text": [
      "hello world\n",
      "hello world\n",
      "\n"
     ]
    }
   ],
   "source": [
    "a = \"hello world\\n\"\n",
    "print(a*2)"
   ]
  },
  {
   "cell_type": "code",
   "execution_count": 4,
   "id": "b52489d8",
   "metadata": {},
   "outputs": [
    {
     "name": "stdout",
     "output_type": "stream",
     "text": [
      "hello world"
     ]
    }
   ],
   "source": [
    "a = \"hello world\"\n",
    "for i in a:\n",
    "    print(i,end=\"\")"
   ]
  },
  {
   "cell_type": "code",
   "execution_count": 17,
   "id": "1025c04c",
   "metadata": {},
   "outputs": [
    {
     "name": "stdout",
     "output_type": "stream",
     "text": [
      "h\n",
      "hello\n",
      "hlowr\n",
      " world\n",
      "d\n",
      "dlrow olleh\n",
      "dlrow olleh\n"
     ]
    }
   ],
   "source": [
    "a = \"hello world\"\n",
    "print(a[0])\n",
    "print(a[0:5])\n",
    "print(a[0:10:2])\n",
    "print(a[5:])\n",
    "print(a[-1])\n",
    "print(a[-1:-12:-1])\n",
    "print(a[::-1])"
   ]
  },
  {
   "cell_type": "code",
   "execution_count": 21,
   "id": "921bfb8b",
   "metadata": {},
   "outputs": [
    {
     "name": "stdout",
     "output_type": "stream",
     "text": [
      "h\n",
      "e\n",
      "l\n",
      "l\n",
      "o\n",
      " \n",
      "w\n",
      "o\n",
      "r\n",
      "l\n",
      "d\n",
      "h\n"
     ]
    }
   ],
   "source": [
    "a = \"hello world\"\n",
    "l = len(a)\n",
    "for i in range(l):\n",
    "    print(a[i])\n",
    "    \n"
   ]
  },
  {
   "cell_type": "code",
   "execution_count": 25,
   "id": "f146aba6",
   "metadata": {},
   "outputs": [
    {
     "name": "stdout",
     "output_type": "stream",
     "text": [
      "h\n",
      "e\n",
      "l\n",
      "l\n",
      "o\n",
      " \n",
      "w\n",
      "o\n",
      "r\n",
      "l\n",
      "d\n"
     ]
    }
   ],
   "source": [
    "a = \"hello world\"\n",
    "i = 0\n",
    "l1 = len(a)\n",
    "while i<l1:\n",
    "    print(a[i])\n",
    "    i += 1"
   ]
  },
  {
   "cell_type": "code",
   "execution_count": 27,
   "id": "ad1a8b26",
   "metadata": {},
   "outputs": [
    {
     "name": "stdout",
     "output_type": "stream",
     "text": [
      "Hello world I am Ram of age 10years old from Kathmandu\n"
     ]
    }
   ],
   "source": [
    "#string formatting\n",
    "name = \"Ram\"\n",
    "age = 10\n",
    "add = \"Kathmandu\"\n",
    "\n",
    "info = \"Hello world \" + \"I am \" + name + \" of age \" + str(age) + \"years old from \" + add\n",
    "print(info)"
   ]
  },
  {
   "cell_type": "code",
   "execution_count": 30,
   "id": "a19e91ba",
   "metadata": {},
   "outputs": [
    {
     "name": "stdout",
     "output_type": "stream",
     "text": [
      "Hello world I am Ram of 10 years old and from Kathmandu.\n"
     ]
    }
   ],
   "source": [
    "#string formatting no worries of data type or concatenation\n",
    "name = \"Ram\"\n",
    "age = 10\n",
    "add = \"Kathmandu\"\n",
    "\n",
    "info = f\"Hello world I am {name} of {age} years old and from {add}.\"\n",
    "print(info)"
   ]
  },
  {
   "cell_type": "code",
   "execution_count": 35,
   "id": "9ebc2469",
   "metadata": {},
   "outputs": [
    {
     "name": "stdout",
     "output_type": "stream",
     "text": [
      "Enter name: Ram\n",
      "No\n"
     ]
    }
   ],
   "source": [
    "a = \"ram shyam hari gita ramesh\"\n",
    "search = input(\"Enter name: \")\n",
    "if search in a:\n",
    "    print(\"Yes\",a.count(search))\n",
    "else:\n",
    "    print(\"No\")\n",
    "    \n",
    "#these kind of limitation in string, solved in array later"
   ]
  },
  {
   "cell_type": "code",
   "execution_count": 39,
   "id": "69d65355",
   "metadata": {},
   "outputs": [
    {
     "name": "stdout",
     "output_type": "stream",
     "text": [
      "ram shyam hari gita ramesh\n",
      "RAM SHYAM HARI GITA RAMESH\n"
     ]
    }
   ],
   "source": [
    "a = \"ram shyam hari gita ramesh\"\n",
    "print(a.lower())\n",
    "print(a.upper())"
   ]
  },
  {
   "cell_type": "code",
   "execution_count": 2,
   "id": "32458af6",
   "metadata": {},
   "outputs": [
    {
     "name": "stdout",
     "output_type": "stream",
     "text": [
      "RAM SHYAM HARI GITA RAMESH\n",
      "RAM SHYAM HARI GITA RAMESH\n",
      "ram shyam hari gita ramesh\n",
      "Ram Shyam Hari Gita Ramesh\n",
      "True\n",
      "False\n",
      "True\n",
      "RAMA SHYAM HARI GITA RAMAESH\n"
     ]
    }
   ],
   "source": [
    "#string is immutable data type\n",
    "#list is mutable data type\n",
    "\n",
    "#for eg: lowering or uppering is forceful, so not immutable (cannot be changed)\n",
    "b = \"ram shyam hari gita ramesh\"\n",
    "a = \"ram shyam hari gita ramesh\".upper()\n",
    "print(a)\n",
    "print(b.upper())\n",
    "print(b)\n",
    "print(b.title())\n",
    "print(b.islower())\n",
    "print(b.isupper())\n",
    "print(a.isupper())\n",
    "print(a.replace('RAM','RAMA'))"
   ]
  },
  {
   "cell_type": "code",
   "execution_count": 6,
   "id": "c70b3a38",
   "metadata": {},
   "outputs": [
    {
     "name": "stdout",
     "output_type": "stream",
     "text": [
      "enter any word or number: 10001\n",
      "palindrome\n"
     ]
    }
   ],
   "source": [
    "a = input(\"enter any word or number: \")\n",
    "if a==a[::-1]:\n",
    "    print(\"palindrome\")\n",
    "else:\n",
    "    print(\"not palindrome\")"
   ]
  },
  {
   "cell_type": "code",
   "execution_count": null,
   "id": "eb83744f",
   "metadata": {},
   "outputs": [],
   "source": []
  }
 ],
 "metadata": {
  "kernelspec": {
   "display_name": "Python 3 (ipykernel)",
   "language": "python",
   "name": "python3"
  },
  "language_info": {
   "codemirror_mode": {
    "name": "ipython",
    "version": 3
   },
   "file_extension": ".py",
   "mimetype": "text/x-python",
   "name": "python",
   "nbconvert_exporter": "python",
   "pygments_lexer": "ipython3",
   "version": "3.11.7"
  }
 },
 "nbformat": 4,
 "nbformat_minor": 5
}
